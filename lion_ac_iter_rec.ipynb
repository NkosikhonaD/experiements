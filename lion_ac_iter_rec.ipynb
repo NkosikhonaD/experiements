{
  "nbformat": 4,
  "nbformat_minor": 0,
  "metadata": {
    "colab": {
      "name": "lion_ac_iter_rec.ipynb",
      "provenance": [],
      "collapsed_sections": []
    },
    "kernelspec": {
      "name": "python3",
      "display_name": "Python 3"
    },
    "accelerator": "GPU"
  },
  "cells": [
    {
      "cell_type": "code",
      "metadata": {
        "id": "DodJjz5WRrx_",
        "colab_type": "code",
        "colab": {}
      },
      "source": [
        "# READ easy positive\n",
        "# https://www.groundai.com/project/improved-embeddings-with-easy-positive-triplet-mining/1\n",
        "\n",
        "#------------------------------imports EmbeddingNet------------------#\n",
        "import torch \n",
        "import torch.nn as nn\n",
        "import torchvision.models as models\n",
        "from torch.optim import Adam\n",
        "from torch.utils.tensorboard import SummaryWriter\n",
        "import torchvision\n",
        "\n",
        "import numpy as np\n",
        "from numpy import mean\n",
        "import torchvision.transforms as transforms\n",
        "#------------------------------imports Sampler-----------------------#\n",
        "from torch.utils.data.sampler import Sampler\n",
        "from collections import defaultdict\n",
        "import random\n",
        "import torch.nn.functional as F\n",
        "\n",
        "#------------------------------imports Dataset-----------------------#\n",
        "from PIL import Image\n",
        "import PIL.ImageOps\n",
        "\n",
        "from torchvision.datasets import ImageFolder\n",
        "from torch.utils.data import DataLoader\n",
        "\n",
        "import torchvision.datasets as dset\n",
        "\n",
        "from torch.utils.data import Dataset\n",
        "\n",
        "import os\n",
        "import matplotlib.pyplot as plt\n",
        "import numpy as np\n"
      ],
      "execution_count": 0,
      "outputs": []
    },
    {
      "cell_type": "code",
      "metadata": {
        "id": "fzyQOcofS2d6",
        "colab_type": "code",
        "outputId": "c47802b9-36e5-427e-f497-8e39d34170c8",
        "colab": {
          "base_uri": "https://localhost:8080/",
          "height": 130
        }
      },
      "source": [
        "from google.colab import drive\n",
        "drive.mount('/content/drive')"
      ],
      "execution_count": 3,
      "outputs": [
        {
          "output_type": "stream",
          "text": [
            "Go to this URL in a browser: https://accounts.google.com/o/oauth2/auth?client_id=947318989803-6bn6qk8qdgf4n4g3pfee6491hc0brc4i.apps.googleusercontent.com&redirect_uri=urn%3aietf%3awg%3aoauth%3a2.0%3aoob&response_type=code&scope=email%20https%3a%2f%2fwww.googleapis.com%2fauth%2fdocs.test%20https%3a%2f%2fwww.googleapis.com%2fauth%2fdrive%20https%3a%2f%2fwww.googleapis.com%2fauth%2fdrive.photos.readonly%20https%3a%2f%2fwww.googleapis.com%2fauth%2fpeopleapi.readonly\n",
            "\n",
            "Enter your authorization code:\n",
            "··········\n",
            "Mounted at /content/drive\n"
          ],
          "name": "stdout"
        }
      ]
    },
    {
      "cell_type": "code",
      "metadata": {
        "id": "D5pH9uxOZ1Zf",
        "colab_type": "code",
        "colab": {}
      },
      "source": [
        "class EmbeddingNet(nn.Module):\n",
        "  def __init__(self,backbone=None):\n",
        "    super(EmbeddingNet,self).__init__()\n",
        "    if backbone is None:\n",
        "      backbone = models.resnet18(num_classes=128)\n",
        "    self.backbone = backbone\n",
        "  def forward(self,x):\n",
        "    x=self.backbone(x)\n",
        "    x= nn.functional.normalize(x,dim=1)\n",
        "    return x\n"
      ],
      "execution_count": 0,
      "outputs": []
    },
    {
      "cell_type": "code",
      "metadata": {
        "id": "pjDfdGibcMxh",
        "colab_type": "code",
        "colab": {}
      },
      "source": [
        "def create_groups(groups,k):\n",
        "  group_samples = defaultdict(list)\n",
        "  for sample_idx, group_idx in enumerate(groups):\n",
        "    group_samples[group_idx].append(sample_idx) #might need to leave this as it is or swap\n",
        "  keys_to_remove =[]\n",
        "  for key in group_samples:\n",
        "    if len(group_samples[key])<k:\n",
        "      keys_to_remove.append(key)\n",
        "      continue\n",
        "  for key in keys_to_remove:\n",
        "    group_samples.pop(key)\n",
        "  return group_samples"
      ],
      "execution_count": 0,
      "outputs": []
    },
    {
      "cell_type": "code",
      "metadata": {
        "id": "IH7yMKjNfpbN",
        "colab_type": "code",
        "colab": {}
      },
      "source": [
        "class PKSampler(Sampler):\n",
        "  def __init__(self,groups,p,k):\n",
        "    self.p = p\n",
        "    self.k= k\n",
        "    self.groups = create_groups(groups,self.k)\n",
        "    \n",
        "    assert len(self.groups)>=p\n",
        "  def __iter__(self):\n",
        "    #shuffle samples within groups\n",
        "    for key in self.groups:\n",
        "      groups_samples_remaining={}\n",
        "    for key in self.groups:\n",
        "      groups_samples_remaining[key] = len(self.groups[key])\n",
        "    \n",
        "    while len(groups_samples_remaining)>self.p:\n",
        "      groups_ids = list(groups_samples_remaining.keys())\n",
        "      selected_groups_idxs = torch.multinomial(torch.ones(len(groups_ids)),self.p).tolist()\n",
        "\n",
        "      for i in selected_groups_idxs:\n",
        "        group_id = groups_ids[i]\n",
        "        group = self.groups[group_id]\n",
        "        for _ in range(self.k):\n",
        "          sample_idx = len(group) - groups_samples_remaining[group_id]\n",
        "          yield sample_idx\n",
        "          groups_samples_remaining[group_id]-=1\n",
        "        if groups_samples_remaining[group_id]<self.k:\n",
        "          groups_samples_remaining.pop(group_id)"
      ],
      "execution_count": 0,
      "outputs": []
    },
    {
      "cell_type": "code",
      "metadata": {
        "id": "ohSjX8bPlVlN",
        "colab_type": "code",
        "colab": {}
      },
      "source": [
        "class TripletMarginLoss(nn.Module):\n",
        "  def __init__(self,margin=0.1,p=2.,mining='batch_hard'):\n",
        "    super(TripletMarginLoss,self).__init__()\n",
        "    self.margin =margin\n",
        "    self.p = p\n",
        "    self.mining= mining\n",
        "    if mining == 'batch_all':\n",
        "      self.loss_fn = batch_all_triplet_loss\n",
        "    if mining =='batch_hard':\n",
        "      self.loss_fn = batch_hard_triplet_loss\n",
        "    \n",
        "  def forward(self,embeddings,labels):\n",
        "    return self.loss_fn(labels,embeddings,self.margin, self.p)\n",
        "\n",
        "def batch_hard_triplet_loss(labels,embeddings,margin,p):\n",
        "  pairwise_dist = torch.cdist(embeddings,embeddings,p=p)\n",
        "\n",
        "  mask_anchor_positive = _get_anchor_positive_triplet_mask(labels).float()\n",
        "  anchor_positive_dist = mask_anchor_positive * pairwise_dist\n",
        "\n",
        "  hardest_positive_dist,_ = anchor_positive_dist.max(1,keepdim=True)\n",
        "\n",
        "  mask_anchor_negative = _get_anchor_negative_triplet_mask(labels).float()\n",
        "\n",
        "  max_anchor_negative_dist,_=pairwise_dist.max(1,keepdim=True)\n",
        "  anchor_negative_dist = pairwise_dist + max_anchor_negative_dist * (1.0-mask_anchor_negative)\n",
        "\n",
        "  hardest_negative_dist, _ = anchor_negative_dist.min(1, keepdim=True)\n",
        "\n",
        "  triplet_loss = hardest_positive_dist - hardest_negative_dist + margin\n",
        "  triplet_loss[triplet_loss<0]=0\n",
        "  \n",
        "  triplet_loss = triplet_loss.mean()\n",
        "\n",
        "  return triplet_loss, -1\n",
        "\n",
        "def batch_all_triplet_loss(labels,embeddings,margin,p):\n",
        "  pairwise_dist = torch.cdist(embeddings,embeddings,p=p)\n",
        "\n",
        "  anchor_positive_dist = pairwise_dist.unsqueeze(2)\n",
        "  anchor_negative_dist = pairwise_dist.unsqueeze(1)\n",
        "\n",
        "  triplet_loss= anchor_positive_dist - anchor_negative_dist + margin\n",
        "\n",
        "  mask = _get_triplet_mask(labels)\n",
        "  triplet_loss = mask.float() * triplet_loss\n",
        "\n",
        "  triplet_loss[triplet_loss<0] =0\n",
        "  valid_triplets = triplet_loss[triplet_loss>1e-16]\n",
        "  num_positive_triplets = valid_triplets.size(0)\n",
        "  num_valid_triplets = mask.sum()\n",
        "\n",
        "  fraction_positive_triplets = num_positive_triplets/ (num_valid_triplets.float()+1e-16)\n",
        "\n",
        "  triplet_loss = triplet_loss.sum()/(num_positive_triplets+1e-16)\n",
        "\n",
        "  return triplet_loss, fraction_positive_triplets\n",
        "\n",
        "def _get_triplet_mask(labels):\n",
        "  indices_equal = torch.eye(labels.size(0),dtype=torch.bool,device= labels.device)\n",
        "  indices_not_equal = ~indices_equal\n",
        "\n",
        "  i_not_equal_j = indices_not_equal.unsqueeze(2)\n",
        "  i_not_equal_k = indices_not_equal.unsqueeze(1)\n",
        "  j_not_equal_k = indices_not_equal.unsqueeze(0)\n",
        "\n",
        "  distinct_indices = (i_not_equal_j & i_not_equal_k) & j_not_equal_k\n",
        "  label_equal = labels.unsqueeze(0)==labels.unsqueeze(1)\n",
        "\n",
        "  i_equal_j = label_equal.unsqueeze(2)\n",
        "  i_equal_k= label_equal.unsqueeze(1)\n",
        "  valid_labels = ~i_equal_k & i_equal_j\n",
        "\n",
        "  return valid_labels & distinct_indices\n",
        "\n",
        "def _get_anchor_positive_triplet_mask(labels):\n",
        "  indices_equal = torch.eye(labels.size(0),dtype=torch.bool,device=labels.device)\n",
        "  indices_not_equal  = ~indices_equal\n",
        "\n",
        "  labels_equal = labels.unsqueeze(0)==labels.unsqueeze(1)\n",
        "\n",
        "  return labels_equal & indices_not_equal\n",
        "\n",
        "def _get_anchor_negative_triplet_mask(labels):\n",
        "  return labels.unsqueeze(0)!=labels.unsqueeze(1)"
      ],
      "execution_count": 0,
      "outputs": []
    },
    {
      "cell_type": "code",
      "metadata": {
        "id": "NVinsN95iqLx",
        "colab_type": "code",
        "colab": {}
      },
      "source": [
        "def show_plot_two(x_axis_array1,y_axis_array1,y_axis_array2,graph_1_lab=\"gr1\",graph_2_lab=\"gr2\",title=\"set title\",x_label=\"epoch\",y_label=\"loss\"):\n",
        "  plt.plot(x_axis_array1,y_axis_array1,label=graph_1_lab)\n",
        "  plt.plot(x_axis_array1,y_axis_array2,label=graph_2_lab)\n",
        "  plt.xlabel(x_label)\n",
        "  plt.ylabel(y_label)\n",
        "  \n",
        "  plt.title(title)\n",
        "  plt.legend(loc='upper right')\n",
        "  plt.show()"
      ],
      "execution_count": 0,
      "outputs": []
    },
    {
      "cell_type": "code",
      "metadata": {
        "id": "-ANJynxPSo2u",
        "colab_type": "code",
        "colab": {}
      },
      "source": [
        "def show_plot(x_axis_array,y_axis_array, title=\"set title\",x_label=\"set_xlabes\",y_label=\"set_ylabels\"):\n",
        "  plt.plot(x_axis_array,y_axis_array)\n",
        "  plt.xlabel(x_label)\n",
        "  plt.ylabel(y_label)\n",
        "  plt.title(title)\n",
        "  plt.legend(loc='upper right')\n",
        "  plt.show()"
      ],
      "execution_count": 0,
      "outputs": []
    },
    {
      "cell_type": "code",
      "metadata": {
        "id": "GR6xu2PnKaaW",
        "colab_type": "code",
        "colab": {}
      },
      "source": [
        "class OnlineTripletDataset(Dataset):\n",
        "  def __init__(self,imageFolderDataset,transform=None,should_invert=True):\n",
        "    self.imageFolderDataset = imageFolderDataset\n",
        "    self.should_invert= should_invert\n",
        "    self.transform = transform\n",
        "    self.targets = [img[1] for img in self.imageFolderDataset.imgs]\n",
        "  def __getitem__(self,index):\n",
        "    img0_tuple = random.choice(self.imageFolderDataset.imgs)\n",
        "    img0 = Image.open(img0_tuple[0])\n",
        "    target = img0_tuple[1]\n",
        "\n",
        "    if self.should_invert:\n",
        "      img0=PIL.ImageOps.invert(img0)\n",
        "    if self.transform is not None:\n",
        "      img0=self.transform(img0)\n",
        "    return img0, torch.from_numpy(np.array([int(target)],dtype=np.float32))\n",
        "  def __len__(self):\n",
        "    return (len(self.imageFolderDataset.imgs))\n"
      ],
      "execution_count": 0,
      "outputs": []
    },
    {
      "cell_type": "code",
      "metadata": {
        "id": "dv75g9oX3BIH",
        "colab_type": "code",
        "colab": {}
      },
      "source": [
        "accuracy_list = []\n",
        "embeds = []\n",
        "labels= []\n",
        "train_loss = []\n",
        "test_loss = []\n",
        "epoch_iterator = []\n",
        "test_iterator = []\n",
        "dists = None\n",
        "targets = None"
      ],
      "execution_count": 0,
      "outputs": []
    },
    {
      "cell_type": "code",
      "metadata": {
        "id": "b2aqPmp_iPLy",
        "colab_type": "code",
        "colab": {}
      },
      "source": [
        "def train_epoch(model,optimizer,criterion,data_loader,device,epoch,print_freq):\n",
        "  \n",
        "  model.train()\n",
        "  running_loss = 0;\n",
        "  running_frac_pos_triplets= 0\n",
        "  epoch_iterator.append(epoch)\n",
        "  for i, data in enumerate(data_loader):\n",
        "    optimizer.zero_grad()\n",
        "    samples, targets = data[0].to(device),data[1].to(device)\n",
        "    embeddings = model(samples)\n",
        "    #loss,frac_pos_triplets = criterion(embeddings,targets)\n",
        "    loss,_ = criterion(embeddings,targets)\n",
        "    loss.backward()\n",
        "    optimizer.step()\n",
        "    running_loss +=loss.item()\n",
        "\n",
        "    #running_frac_pos_triplets+=float(frac_pos_triplets)\n",
        "\n",
        "    if i%print_freq ==print_freq-1:\n",
        "      i+=1\n",
        "      avg_loss = running_loss/print_freq\n",
        "      train_loss.append(avg_loss)\n",
        "      \n",
        "      #avg_trip =100.0*running_frac_pos_triplets/print_freq\n",
        "      #print('[{:d}, {:d}] | loss: {:.4f} | % avg hard triplets: {:.2f}%'.format(epoch, i, avg_loss, avg_trip))\n",
        "      print('[{:d}, {:d}] | loss: {:.4f}'.format(epoch, i, avg_loss))\n",
        "      running_loss = 0\n",
        "      running_frac_pos_triplets = 0"
      ],
      "execution_count": 0,
      "outputs": []
    },
    {
      "cell_type": "code",
      "metadata": {
        "id": "rOisVYTJouG7",
        "colab_type": "code",
        "colab": {}
      },
      "source": [
        "def find_best_threshold(dists,targets,device):\n",
        "  best_thresh = 0.01\n",
        "  best_correct = 0\n",
        "  for thresh in torch.arange(0.0,1.51,0.01):\n",
        "    predictions = dists<=thresh.to(device)\n",
        "    correct = torch.sum(predictions==targets.to(device)).item()\n",
        "    if correct>best_correct:\n",
        "      best_thresh=thresh\n",
        "      best_correct = best_correct\n",
        "\n",
        "  accuracy = 100.0*best_correct/dists.size(0)\n",
        "  return best_thresh, accuracy"
      ],
      "execution_count": 0,
      "outputs": []
    },
    {
      "cell_type": "code",
      "metadata": {
        "id": "MvP3eNuWhEbx",
        "colab_type": "code",
        "colab": {}
      },
      "source": [
        "class AverageMeter(object):\n",
        "  def __init__(self):\n",
        "    self.reset()\n",
        "  def reset(self):\n",
        "    self.val = 0\n",
        "    self.avg = 0\n",
        "    self.sum = 0\n",
        "    self.count = 0\n",
        "  def update(self,val,n=1):\n",
        "    self.val = val\n",
        "    self.sum+=val*n\n",
        "    self.count+=n\n",
        "    self.avg = self.sum / self.count\n"
      ],
      "execution_count": 0,
      "outputs": []
    },
    {
      "cell_type": "code",
      "metadata": {
        "id": "rWwUJ9IkcEmq",
        "colab_type": "code",
        "colab": {}
      },
      "source": [
        "def imshow(img,text=None,should_save= False):\n",
        "  npimg = img.cpu().numpy()\n",
        "  plt.axis(\"off\")\n",
        "  if text:\n",
        "    plt.text(75,8,text,style='italic',fontweight='bold',bbox={'facecolor':'white','alpha':0.8,'pad':10})\n",
        "  plt.imshow(np.transpose(npimg,(1,2,0)))\n",
        "  plt.show()\n",
        "  "
      ],
      "execution_count": 0,
      "outputs": []
    },
    {
      "cell_type": "code",
      "metadata": {
        "id": "QV8CnONbXJcJ",
        "colab_type": "code",
        "colab": {}
      },
      "source": [
        "def find_accuracy(dists,targets,device):\n",
        "  accuracy=0.0\n",
        "  #for thresh in torch.arange(0.0,1.51,0.01):\n",
        "  thresh = torch.tensor(0.01)\n",
        "  predictions = dists <= thresh.to(device)\n",
        "\n",
        "  correct = torch.sum(predictions == targets.to(device)).item()\n",
        "\n",
        "  print (\"Predict\",predictions)\n",
        "  print (\"target\",targets)\n",
        "  #print (\"correct\",correct,\"dists size (0) \",dists.size(0))\n",
        "  if dists.size(0)>0:\n",
        "    accuracy = 100.0*correct/(dists.size(0))\n",
        "  return accuracy"
      ],
      "execution_count": 0,
      "outputs": []
    },
    {
      "cell_type": "code",
      "metadata": {
        "id": "5OO0cD7Of64A",
        "colab_type": "code",
        "colab": {}
      },
      "source": [
        "def save(model,epoch,save_dir,file_name):\n",
        "  file_name = 'epoch_'+str(epoch)+'_'+file_name\n",
        "  save_path =os.path.join(save_dir,file_name)\n",
        "  torch.save(model.state_dict(),save_path)"
      ],
      "execution_count": 0,
      "outputs": []
    },
    {
      "cell_type": "code",
      "metadata": {
        "id": "scWKE9nPGUTP",
        "colab_type": "code",
        "colab": {}
      },
      "source": [
        "p =  4 #labels per batch\n",
        "k =  4 # samples per label\n",
        "folder_dataset_train = dset.ImageFolder(root=\"/content/drive/My Drive/ColabNotebooks/DataProcessed/Lion_Data/train\")\n",
        "#folder_dataset_test = dset.ImageFolder(root=\"/content/drive/My Drive/ColabNotebooks/DataProcessed/Nyla_Data/val\")\n",
        "\n",
        "train_dataset = OnlineTripletDataset(imageFolderDataset=folder_dataset_train,transform=transforms.Compose([transforms.Resize(128),transforms.CenterCrop(124),transforms.ToTensor()]),should_invert=False)\n",
        "#test_dataset= OnlineTripletDataset(imageFolderDataset=folder_dataset_test,transform=transforms.Compose([transforms.Resize(28),transforms.CenterCrop(124),transforms.ToTensor(),transforms.Normalize([0.485,0.456,0.406],[0.229,0.224,0.225])]),should_invert=False)\n",
        "  \n",
        "targets = train_dataset.targets\n",
        "\n",
        "train_dataloader = DataLoader(train_dataset,sampler=PKSampler(targets,p,k),num_workers =4,batch_size=6)"
      ],
      "execution_count": 0,
      "outputs": []
    },
    {
      "cell_type": "code",
      "metadata": {
        "id": "6GqhQ7-2_iPu",
        "colab_type": "code",
        "colab": {}
      },
      "source": [
        "folder_dataset_test = dset.ImageFolder(root=\"/content/drive/My Drive/ColabNotebooks/DataProcessed/Lion_Data/val\")\n",
        "#folder_dataset_test = dset.ImageFolder(root=\"/content/drive/My Drive/ColabNotebooks/DataProcessed/Lion_Data/val\")\n",
        "\n",
        "#train_dataset = OnlineTripletDataset(imageFolderDataset=folder_dataset_train,transform=transforms.Compose([transforms.Resize(28),transforms.CenterCrop(24),transforms.ToTensor()]),should_invert=False)\n",
        "test_dataset= OnlineTripletDataset(imageFolderDataset=folder_dataset_test,transform=transforms.Compose([transforms.Resize(128),transforms.CenterCrop(124),transforms.ToTensor(),transforms.Normalize([0.485,0.456,0.406],[0.229,0.224,0.225])]),should_invert=False)\n",
        "test_dataloader = DataLoader(test_dataset,num_workers=4,batch_size=6,shuffle=False) \n",
        "device = torch.device('cuda')"
      ],
      "execution_count": 0,
      "outputs": []
    },
    {
      "cell_type": "code",
      "metadata": {
        "colab_type": "code",
        "id": "fmysnzus_ej7",
        "colab": {}
      },
      "source": [
        "\n",
        "def test_epoch(model,criterion,data_loader,device,epoch,print_freq):\n",
        "  model.eval()\n",
        "  model.to(device)\n",
        "  running_loss = 0;\n",
        "  running_frac_pos_triplets= 0\n",
        "  model_string = \"/content/drive/My Drive/ColabNotebooks/epoch_\"+str(epoch)+\"_lion.pt\"\n",
        "  model.load_state_dict(torch.load(model_string))\n",
        "  test_iterator.append(epoch)\n",
        "  for i, data in enumerate(data_loader):\n",
        "    samples, targets = data[0].to(device),data[1].to(device)\n",
        "    embeddings = model(samples) \n",
        "    loss,_ = criterion(embeddings,targets)\n",
        "    running_loss +=loss.item()\n",
        "    if i%print_freq ==print_freq-1:\n",
        "      i+=1\n",
        "      avg_loss = running_loss/print_freq\n",
        "      test_loss.append(avg_loss)\n",
        "      print('[{:d}, {:d}] | loss: {:.4f}'.format(epoch, i, avg_loss))\n",
        "      running_loss = 0\n",
        "      running_frac_pos_triplets = 0"
      ],
      "execution_count": 0,
      "outputs": []
    },
    {
      "cell_type": "code",
      "metadata": {
        "id": "lGCKEVVg7RSk",
        "colab_type": "code",
        "outputId": "7841a3ff-68e7-4e69-932f-b62245aa267d",
        "colab": {
          "base_uri": "https://localhost:8080/",
          "height": 1000
        }
      },
      "source": [
        "test_loss = []\n",
        "test_iterator = []\n",
        "def main():\n",
        "  device = torch.device('cuda:0')\n",
        "  model = EmbeddingNet()\n",
        "  model.to(device)\n",
        "\n",
        "  batch_size= p*k\n",
        "  print_freq = 60\n",
        "  criterion = TripletMarginLoss(margin =0.1) # hyper parameter margin can be changed\n",
        "  optimizer = Adam(model.parameters(),lr=0.0001)\n",
        "  for epoch in range(1,31):\n",
        "    print('Training...')\n",
        "    train_epoch(model,optimizer,criterion,train_dataloader,device,epoch,print_freq)\n",
        "    save(model,epoch,\"/content/drive/My Drive/ColabNotebooks/\",\"lion.pt\")\n",
        "  \n",
        "  model = EmbeddingNet()\n",
        "  criterion = TripletMarginLoss(margin =0.01)\n",
        "  print_freq = 30\n",
        "  for epoch in range(1,31):\n",
        "    print('Testing...')\n",
        "    test_epoch(model,criterion,test_dataloader,device,epoch,print_freq)    \n",
        "  show_plot_two(test_iterator,train_loss,test_loss,\"train\",\"validate\",\"Triplet loss\")\n",
        "if __name__ == '__main__':\n",
        "  main()"
      ],
      "execution_count": 60,
      "outputs": [
        {
          "output_type": "stream",
          "text": [
            "Training...\n",
            "[1, 60] | loss: 0.2226\n",
            "Training...\n",
            "[2, 60] | loss: 0.1409\n",
            "Training...\n",
            "[3, 60] | loss: 0.1247\n",
            "Training...\n",
            "[4, 60] | loss: 0.1165\n",
            "Training...\n",
            "[5, 60] | loss: 0.1120\n",
            "Training...\n",
            "[6, 60] | loss: 0.1087\n",
            "Training...\n",
            "[7, 60] | loss: 0.1067\n",
            "Training...\n",
            "[8, 60] | loss: 0.1053\n",
            "Training...\n",
            "[9, 60] | loss: 0.1043\n",
            "Training...\n",
            "[10, 60] | loss: 0.1037\n",
            "Training...\n",
            "[11, 60] | loss: 0.1031\n",
            "Training...\n",
            "[12, 60] | loss: 0.1027\n",
            "Training...\n",
            "[13, 60] | loss: 0.1023\n",
            "Training...\n",
            "[14, 60] | loss: 0.1021\n",
            "Training...\n",
            "[15, 60] | loss: 0.1019\n",
            "Training...\n",
            "[16, 60] | loss: 0.1017\n",
            "Training...\n",
            "[17, 60] | loss: 0.1015\n",
            "Training...\n",
            "[18, 60] | loss: 0.1014\n",
            "Training...\n",
            "[19, 60] | loss: 0.1013\n",
            "Training...\n",
            "[20, 60] | loss: 0.1011\n",
            "Training...\n",
            "[21, 60] | loss: 0.1011\n",
            "Training...\n",
            "[22, 60] | loss: 0.1010\n",
            "Training...\n",
            "[23, 60] | loss: 0.1009\n",
            "Training...\n",
            "[24, 60] | loss: 0.1008\n",
            "Training...\n",
            "[25, 60] | loss: 0.1008\n",
            "Training...\n",
            "[26, 60] | loss: 0.1007\n",
            "Training...\n",
            "[27, 60] | loss: 0.1007\n",
            "Training...\n",
            "[28, 60] | loss: 0.1006\n",
            "Training...\n",
            "[29, 60] | loss: 0.1006\n",
            "Training...\n",
            "[30, 60] | loss: 0.1006\n",
            "Testing...\n",
            "[1, 30] | loss: 0.0733\n",
            "Testing...\n",
            "[2, 30] | loss: 0.0581\n",
            "Testing...\n",
            "[3, 30] | loss: 0.0528\n",
            "Testing...\n",
            "[4, 30] | loss: 0.0504\n",
            "Testing...\n",
            "[5, 30] | loss: 0.0462\n",
            "Testing...\n",
            "[6, 30] | loss: 0.0427\n",
            "Testing...\n",
            "[7, 30] | loss: 0.0404\n",
            "Testing...\n",
            "[8, 30] | loss: 0.0387\n",
            "Testing...\n",
            "[9, 30] | loss: 0.0366\n",
            "Testing...\n",
            "[10, 30] | loss: 0.0345\n",
            "Testing...\n",
            "[11, 30] | loss: 0.0332\n",
            "Testing...\n",
            "[12, 30] | loss: 0.0312\n",
            "Testing...\n",
            "[13, 30] | loss: 0.0296\n",
            "Testing...\n",
            "[14, 30] | loss: 0.0282\n",
            "Testing...\n",
            "[15, 30] | loss: 0.0273\n",
            "Testing...\n",
            "[16, 30] | loss: 0.0263\n",
            "Testing...\n",
            "[17, 30] | loss: 0.0254\n",
            "Testing...\n",
            "[18, 30] | loss: 0.0244\n",
            "Testing...\n",
            "[19, 30] | loss: 0.0233\n",
            "Testing...\n",
            "[20, 30] | loss: 0.0231\n",
            "Testing...\n",
            "[21, 30] | loss: 0.0221\n",
            "Testing...\n",
            "[22, 30] | loss: 0.0219\n",
            "Testing...\n",
            "[23, 30] | loss: 0.0206\n",
            "Testing...\n",
            "[24, 30] | loss: 0.0200\n",
            "Testing...\n",
            "[25, 30] | loss: 0.0201\n",
            "Testing...\n",
            "[26, 30] | loss: 0.0195\n",
            "Testing...\n",
            "[27, 30] | loss: 0.0191\n",
            "Testing...\n",
            "[28, 30] | loss: 0.0189\n",
            "Testing...\n",
            "[29, 30] | loss: 0.0183\n",
            "Testing...\n",
            "[30, 30] | loss: 0.0183\n"
          ],
          "name": "stdout"
        },
        {
          "output_type": "display_data",
          "data": {
            "image/png": "[encoded data removed]",
            "text/plain": [
              "<Figure size 432x288 with 1 Axes>"
            ]
          },
          "metadata": {
            "tags": [],
            "needs_background": "light"
          }
        }
      ]
    },
    {
      "cell_type": "code",
      "metadata": {
        "id": "ZXVYlYv6Q6Cu",
        "colab_type": "code",
        "colab": {
          "base_uri": "https://localhost:8080/",
          "height": 73
        },
        "outputId": "1d0d912b-7e8b-451e-d9fd-9f005cbc7d6d"
      },
      "source": [
        "print('Evaluating . . . ')\n",
        "#http://queirozf.com/entries/evaluation-metrics-for-ranking-problems-introduction-and-examples\n",
        "#https://ils.unc.edu/courses/2013_spring/inls509_001/lectures/10-EvaluationMetrics.pdf\n",
        "test_dataloader2 = DataLoader(test_dataset,num_workers=4,batch_size=1,shuffle=False)\n",
        "model = EmbeddingNet()\n",
        "model.eval()\n",
        "model.to(device)\n",
        "accuracy_list = []\n",
        "recall1_list = []\n",
        "precision1_list = []\n",
        "\n",
        "recall2_list = []\n",
        "precision2_list = []\n",
        "\n",
        "for i in range(1,30):\n",
        "  accuracy = 0\n",
        "  total = 0\n",
        "  true_positive = 0\n",
        "  true_negative = 0\n",
        "  false_positive=0\n",
        "  false_negative =0\n",
        "\n",
        "  data_iter = iter(test_dataloader2)\n",
        "\n",
        "  img0,target0 =next(data_iter)\n",
        "  img0 = img0.to(device)\n",
        "  target0 = target0.to(device)\n",
        "  #print(target0.item())\n",
        "  model_string = \"/content/drive/My Drive/ColabNotebooks/epoch_\"+str(30)+\"_lion.pt\"\n",
        "  model.load_state_dict(torch.load(model_string))\n",
        "  precision_c1 = 0.0\n",
        "  recall_c1 = 0.0\n",
        "\n",
        "  precision_c2 = 0.0\n",
        "  recall_c2 = 0.0\n",
        "  for i,data in enumerate(test_dataloader2):\n",
        "    img1,target1 =data[0].to(device),data[1].to(device)\n",
        "    embed0= model(img0)\n",
        "    embed1= model(img1)\n",
        "    contactenated = torch.cat((img0,img1),0)\n",
        "    dist =  F.pairwise_distance(embed0,embed1)\n",
        "    if target1.item() == target0.item():\n",
        "      \n",
        "      if dist<0.002:\n",
        "        true_positive+=1\n",
        "        total+=1\n",
        "      else:\n",
        "        false_positive+=1\n",
        "        total+=1\n",
        "    else:\n",
        "        if dist>=0.002:\n",
        "          true_negative+=1\n",
        "          total+=1\n",
        "        else:\n",
        "          false_negative+=1\n",
        "          total+=1\n",
        "  acc = (true_positive+true_negative)/total\n",
        "  accuracy_list.append(acc)\n",
        "  if true_positive !=0: \n",
        "    recall_c1 = true_positive /(true_positive+false_negative) \n",
        "    recall1_list.append(recall_c1)\n",
        "    precision_c1 =true_positive/(true_positive+false_positive)\n",
        "    precision1_list.append(precision_c1)\n",
        "  if true_negative!=0:\n",
        "    precision_c2 = true_negative/(true_negative+false_positive)\n",
        "    precision2_list.append(precision_c2)\n",
        "    recall_c2 = true_negative/(true_negative+false_negative)\n",
        "    recall2_list.append(recall_c2)\n",
        "\n",
        "print('Accuracy: {0:.1f}, Recall: {1:.1f} Precision: {2:.1f}'.format(mean(accuracy_list),mean(recall1_list),mean(precision1_list)))\n",
        "print('Accuracy: {0:.1f}, Recall: {1:.1f} Precision: {2:.1f}'.format(mean(accuracy_list),mean(recall2_list),mean(precision2_list)))"
      ],
      "execution_count": 17,
      "outputs": [
        {
          "output_type": "stream",
          "text": [
            "Evaluating . . . \n",
            "Accuracy: 1.0, Recall: 1.0 Precision: 0.7\n",
            "Accuracy: 1.0, Recall: 1.0 Precision: 1.0\n"
          ],
          "name": "stdout"
        }
      ]
    },
    {
      "cell_type": "code",
      "metadata": {
        "id": "9mct961CxL_y",
        "colab_type": "code",
        "colab": {}
      },
      "source": [
        "def plot_dists(y_points1,y_points2,color1=\"blue\",color2=\"red\"):\n",
        "  list_size = len(y_points1)\n",
        "\n",
        "  plt.scatter(y_points1,y_points1,c=color1,s=5,label=\"same label\")\n",
        "  #list_size = len(y_points2)\n",
        "  #x_list = np.arange(0,list_size,1)\n",
        "  new_list = y_points2[:list_size]\n",
        "  plt.scatter(new_list,new_list,c=color2,s=5,label =\"different label\")\n",
        "  plt.xlabel('distances range')\n",
        "  plt.ylabel('distances')\n",
        "\n",
        "  plt.legend(loc='upper left')\n",
        "  plt.show()\n"
      ],
      "execution_count": 0,
      "outputs": []
    },
    {
      "cell_type": "code",
      "metadata": {
        "id": "siuoXDTrQxow",
        "colab_type": "code",
        "colab": {}
      },
      "source": [
        "def plot_dists_all(y_points1,y_points2,color1=\"blue\",color2=\"red\"):\n",
        "\n",
        "  list_size = len(y_points1)\n",
        "  x_list = np.linspace(0,30,num=list_size)\n",
        "  plt.scatter(x_list,y_points1,c=color1,s=5,label=\"same label\")\n",
        "  list_size = len(y_points2)\n",
        "  x_list = np.linspace(0,30,num=list_size)\n",
        "  plt.scatter(x_list,y_points2,c=color2,s=5,label=\"different label\")\n",
        "  #plt.xlim(0.01,0.008)\n",
        "  plt.xlabel('iteration')\n",
        "  plt.ylabel('distances')\n",
        "\n",
        "  plt.legend(loc='upper left')\n",
        "  plt.show()"
      ],
      "execution_count": 0,
      "outputs": []
    },
    {
      "cell_type": "code",
      "metadata": {
        "id": "45GUHJLc2F1P",
        "colab_type": "code",
        "outputId": "a2facd5b-c383-4184-be31-3e1430eea19c",
        "colab": {
          "base_uri": "https://localhost:8080/",
          "height": 298
        }
      },
      "source": [
        "print('Plotting dists . . . ')\n",
        "#http://queirozf.com/entries/evaluation-metrics-for-ranking-problems-introduction-and-examples\n",
        "#https://ils.unc.edu/courses/2013_spring/inls509_001/lectures/10-EvaluationMetrics.pdf\n",
        "test_dataloader2 = DataLoader(test_dataset,num_workers=4,batch_size=1,shuffle=False)\n",
        "model = EmbeddingNet()\n",
        "model.eval()\n",
        "model.to(device)\n",
        "model_string = \"/content/drive/My Drive/ColabNotebooks/epoch_\"+str(30)+\"_lion.pt\"\n",
        "model.load_state_dict(torch.load(model_string))\n",
        "accuracy_list = []\n",
        "recall1_list = []\n",
        "precision1_list = []\n",
        "\n",
        "recall2_list = []\n",
        "precision2_list = []\n",
        "\n",
        "same_class_dists=[]\n",
        "diff_class_dists=[]\n",
        "\n",
        "same_class_dists_av=[]\n",
        "diff_class_dists_av=[]\n",
        "\n",
        "for i in range(1,60):  \n",
        "  data_iter = iter(test_dataloader2)\n",
        "\n",
        "  img0,target0 =next(data_iter)\n",
        "  img0 = img0.to(device)\n",
        "  target0 = target0.to(device)\n",
        "  embed0= model(img0)\n",
        "  for i,data in enumerate(test_dataloader2):\n",
        "    img1,target1 =data[0].to(device),data[1].to(device)\n",
        "    embed1= model(img1)\n",
        "    dist =  F.pairwise_distance(embed0,embed1)\n",
        "    dist_a = round(dist.item(),4)\n",
        "    if target1.item() == target0.item():\n",
        "      same_class_dists.append(dist_a)\n",
        "      if(i %5 == 0):\n",
        "        same_class_dists_av.append(np.mean(same_class_dists))\n",
        "        same_class_dists = []\n",
        "    else:\n",
        "      diff_class_dists.append(dist_a)\n",
        "      if i%5 == 0 :\n",
        "        diff_class_dists_av.append(np.mean(diff_class_dists))\n",
        "        diff_class_dists = []\n",
        "plot_dists(same_class_dists_av,diff_class_dists_av)\n",
        "  "
      ],
      "execution_count": 21,
      "outputs": [
        {
          "output_type": "stream",
          "text": [
            "Plotting dists . . . \n"
          ],
          "name": "stdout"
        },
        {
          "output_type": "display_data",
          "data": {
            "image/png": "[encoded data removed]",
            "text/plain": [
              "<Figure size 432x288 with 1 Axes>"
            ]
          },
          "metadata": {
            "tags": [],
            "needs_background": "light"
          }
        }
      ]
    },
    {
      "cell_type": "code",
      "metadata": {
        "id": "JxsYSuUKPbZp",
        "colab_type": "code",
        "outputId": "4de0864c-6c76-4385-925f-e9e6552ec3ff",
        "colab": {
          "base_uri": "https://localhost:8080/",
          "height": 279
        }
      },
      "source": [
        "plot_dists(same_class_dists_av,diff_class_dists_av)"
      ],
      "execution_count": 22,
      "outputs": [
        {
          "output_type": "display_data",
          "data": {
            "image/png": "[encoded data removed]",
            "text/plain": [
              "<Figure size 432x288 with 1 Axes>"
            ]
          },
          "metadata": {
            "tags": [],
            "needs_background": "light"
          }
        }
      ]
    },
    {
      "cell_type": "code",
      "metadata": {
        "id": "9KyJfVT2RIek",
        "colab_type": "code",
        "outputId": "9d1dad0d-8437-4748-c433-50d69abee5b6",
        "colab": {
          "base_uri": "https://localhost:8080/",
          "height": 279
        }
      },
      "source": [
        "\n",
        "plot_dists_all(same_class_dists_av,diff_class_dists_av)"
      ],
      "execution_count": 23,
      "outputs": [
        {
          "output_type": "display_data",
          "data": {
            "image/png": "[encoded data removed]",
            "text/plain": [
              "<Figure size 432x288 with 1 Axes>"
            ]
          },
          "metadata": {
            "tags": [],
            "needs_background": "light"
          }
        }
      ]
    },
    {
      "cell_type": "code",
      "metadata": {
        "id": "HuKK5sgUyLdE",
        "colab_type": "code",
        "outputId": "c8ee18cb-e158-4791-b66b-33b9476d458a",
        "colab": {
          "base_uri": "https://localhost:8080/",
          "height": 54
        }
      },
      "source": [
        "#plot_dists_all(same_class_dists_av,diff_class_dists_av)\n",
        "print('Mean distance between images in same class {:.4f}'.format(np.mean(same_class_dists_av)))\n",
        "print('Mean distance between images in different class {:.4f}'.format(np.mean(diff_class_dists_av)))\n"
      ],
      "execution_count": 24,
      "outputs": [
        {
          "output_type": "stream",
          "text": [
            "Mean distance between images in same class 0.0061\n",
            "Mean distance between images in different class 0.0116\n"
          ],
          "name": "stdout"
        }
      ]
    },
    {
      "cell_type": "code",
      "metadata": {
        "id": "DgyZjEEHyL1H",
        "colab_type": "code",
        "colab": {
          "base_uri": "https://localhost:8080/",
          "height": 54
        },
        "outputId": "5ec3c07b-2d1b-4fb2-c0c3-ea097ebf3111"
      },
      "source": [
        "print('Evaluation  mAP . . . ')\n",
        "#http://queirozf.com/entries/evaluation-metrics-for-ranking-problems-introduction-and-examples\n",
        "#https://ils.unc.edu/courses/2013_spring/inls509_001/lectures/10-EvaluationMetrics.pdf\n",
        "test_dataloader2 = DataLoader(test_dataset,num_workers=4,batch_size=1,shuffle=False)\n",
        "model = EmbeddingNet()\n",
        "model.eval()\n",
        "model.to(device)\n",
        "accuracy_list = []\n",
        "recall1_list = []\n",
        "precision1_list = []\n",
        "\n",
        "relevant_items1 = 0\n",
        "relevant_items2 = 0\n",
        "recall2_list = []\n",
        "precision2_list = []\n",
        "model_string = \"/content/drive/My Drive/ColabNotebooks/epoch_\"+str(30)+\"_lion.pt\"\n",
        "model.load_state_dict(torch.load(model_string))\n",
        "\n",
        "mean_average_prec = []\n",
        "for i in range(1,100):\n",
        "  dist_class = []\n",
        "  data_iter = iter(test_dataloader2)\n",
        "  img0,target0 =next(data_iter)\n",
        "  img0 = img0.to(device)\n",
        "  target0 = target0.to(device)\n",
        "  for d,data in enumerate(test_dataloader2):\n",
        "    img1,target1 =data[0].to(device),data[1].to(device)\n",
        "    embed0= model(img0)\n",
        "    embed1= model(img1)\n",
        "    #contactenated = torch.cat((img0,img1),0)\n",
        "    dist =  F.pairwise_distance(embed0,embed1)\n",
        "    dist_r = round(dist.item(),4)\n",
        "    if target1.item() == target0.item():\n",
        "      relevant_items1=relevant_items1 + 1\n",
        "      t = (dist_r,0)\n",
        "      dist_class.append(t)\n",
        "    else:\n",
        "      relevant_items2=relevant_items2+1\n",
        "      t = (dist_r,1)\n",
        "      dist_class.append(t)\n",
        "  dist_class.sort(key = lambda x: x[0])\n",
        "  true_positive_class1 = 0\n",
        "  false_positive_class1 = 0\n",
        "  \n",
        "  true_negative_class1 = 0\n",
        "  false_negative_class1 = 0\n",
        "  total = 0\n",
        "  predicted_positive = 0\n",
        "  p = 0\n",
        "  for data in dist_class:\n",
        "    distance,class_ind = data[0],data[1]\n",
        "    if class_ind==0:\n",
        "      total= total+1\n",
        "      if distance<0.002:\n",
        "        true_positive_class1=true_positive_class1+1\n",
        "        predicted_positive=predicted_positive+1\n",
        "        p = p+(true_positive_class1/total)\n",
        "  \n",
        "  ap =0\n",
        "  if  predicted_positive>0:\n",
        "    ap= p/predicted_positive\n",
        "  precision1_list.append(ap)\n",
        "  if i%100 ==0:\n",
        "    print('AP : {0:.4f}'.format(ap))\n",
        "print('mAP {:.4f}'.format(mean(precision1_list)))"
      ],
      "execution_count": 25,
      "outputs": [
        {
          "output_type": "stream",
          "text": [
            "Evaluation  mAP . . . \n",
            "mAP 0.7172\n"
          ],
          "name": "stdout"
        }
      ]
    },
    {
      "cell_type": "code",
      "metadata": {
        "id": "9JVoFJvE4axz",
        "colab_type": "code",
        "outputId": "053be798-91f0-4ef5-fb3d-1c6329f2f215",
        "colab": {
          "base_uri": "https://localhost:8080/",
          "height": 36
        }
      },
      "source": [
        "print('mAP {:.4f}'.format(mean(precision1_list)))"
      ],
      "execution_count": 26,
      "outputs": [
        {
          "output_type": "stream",
          "text": [
            "mAP 0.7172\n"
          ],
          "name": "stdout"
        }
      ]
    }
  ]
}