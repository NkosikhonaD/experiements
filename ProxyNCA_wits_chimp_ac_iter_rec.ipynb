{
  "nbformat": 4,
  "nbformat_minor": 0,
  "metadata": {
    "colab": {
      "name": "ProxyNCA_wits_chimp_ac_iter_rec.ipynb",
      "provenance": [],
      "collapsed_sections": [],
      "include_colab_link": true
    },
    "kernelspec": {
      "name": "python3",
      "display_name": "Python 3"
    },
    "accelerator": "GPU"
  },
  "cells": [
    {
      "cell_type": "markdown",
      "metadata": {
        "id": "view-in-github",
        "colab_type": "text"
      },
      "source": [
        "<a href=\"https://colab.research.google.com/github/NkosikhonaD/experiements/blob/master/ProxyNCA_wits_chimp_ac_iter_rec.ipynb\" target=\"_parent\"><img src=\"https://colab.research.google.com/assets/colab-badge.svg\" alt=\"Open In Colab\"/></a>"
      ]
    },
    {
      "cell_type": "code",
      "metadata": {
        "colab": {
          "base_uri": "https://localhost:8080/"
        },
        "id": "W-KAVi510PEz",
        "outputId": "20e99853-ad92-4c86-c41f-d766b24ea142"
      },
      "source": [
        "!pip install pytorch-metric-learning\r\n",
        "!pip install faiss-gpu"
      ],
      "execution_count": null,
      "outputs": [
        {
          "output_type": "stream",
          "text": [
            "Collecting pytorch-metric-learning\n",
            "\u001b[?25l  Downloading https://files.pythonhosted.org/packages/0a/f3/37c24b400f50dd639ced6797f6453aa7c22251311ab3ef32ee7251c3568c/pytorch_metric_learning-0.9.96-py3-none-any.whl (98kB)\n",
            "\r\u001b[K     |███▎                            | 10kB 21.3MB/s eta 0:00:01\r\u001b[K     |██████▋                         | 20kB 9.4MB/s eta 0:00:01\r\u001b[K     |██████████                      | 30kB 7.4MB/s eta 0:00:01\r\u001b[K     |█████████████▎                  | 40kB 6.8MB/s eta 0:00:01\r\u001b[K     |████████████████▋               | 51kB 4.4MB/s eta 0:00:01\r\u001b[K     |████████████████████            | 61kB 4.9MB/s eta 0:00:01\r\u001b[K     |███████████████████████▏        | 71kB 5.0MB/s eta 0:00:01\r\u001b[K     |██████████████████████████▌     | 81kB 5.4MB/s eta 0:00:01\r\u001b[K     |█████████████████████████████▉  | 92kB 5.1MB/s eta 0:00:01\r\u001b[K     |████████████████████████████████| 102kB 4.0MB/s \n",
            "\u001b[?25hRequirement already satisfied: scikit-learn in /usr/local/lib/python3.6/dist-packages (from pytorch-metric-learning) (0.22.2.post1)\n",
            "Requirement already satisfied: torch>=1.6.0 in /usr/local/lib/python3.6/dist-packages (from pytorch-metric-learning) (1.7.0+cu101)\n",
            "Requirement already satisfied: tqdm in /usr/local/lib/python3.6/dist-packages (from pytorch-metric-learning) (4.41.1)\n",
            "Requirement already satisfied: torchvision in /usr/local/lib/python3.6/dist-packages (from pytorch-metric-learning) (0.8.1+cu101)\n",
            "Requirement already satisfied: numpy in /usr/local/lib/python3.6/dist-packages (from pytorch-metric-learning) (1.19.5)\n",
            "Requirement already satisfied: joblib>=0.11 in /usr/local/lib/python3.6/dist-packages (from scikit-learn->pytorch-metric-learning) (1.0.0)\n",
            "Requirement already satisfied: scipy>=0.17.0 in /usr/local/lib/python3.6/dist-packages (from scikit-learn->pytorch-metric-learning) (1.4.1)\n",
            "Requirement already satisfied: typing-extensions in /usr/local/lib/python3.6/dist-packages (from torch>=1.6.0->pytorch-metric-learning) (3.7.4.3)\n",
            "Requirement already satisfied: future in /usr/local/lib/python3.6/dist-packages (from torch>=1.6.0->pytorch-metric-learning) (0.16.0)\n",
            "Requirement already satisfied: dataclasses in /usr/local/lib/python3.6/dist-packages (from torch>=1.6.0->pytorch-metric-learning) (0.8)\n",
            "Requirement already satisfied: pillow>=4.1.1 in /usr/local/lib/python3.6/dist-packages (from torchvision->pytorch-metric-learning) (7.0.0)\n",
            "Installing collected packages: pytorch-metric-learning\n",
            "Successfully installed pytorch-metric-learning-0.9.96\n",
            "Collecting faiss-gpu\n",
            "\u001b[?25l  Downloading https://files.pythonhosted.org/packages/3d/e2/5f90aad74c1bb64279020fbe6d6ca23b6d1ba1fdcce81329f441ee819d59/faiss_gpu-1.7.0-cp36-cp36m-manylinux2014_x86_64.whl (89.4MB)\n",
            "\u001b[K     |████████████████████████████████| 89.4MB 44kB/s \n",
            "\u001b[?25hInstalling collected packages: faiss-gpu\n",
            "Successfully installed faiss-gpu-1.7.0\n"
          ],
          "name": "stdout"
        }
      ]
    },
    {
      "cell_type": "code",
      "metadata": {
        "id": "D1OPUlhC1GBS"
      },
      "source": [
        "from pytorch_metric_learning import losses, miners, reducers, distances, testers\r\n",
        "from pytorch_metric_learning.utils.accuracy_calculator import AccuracyCalculator"
      ],
      "execution_count": null,
      "outputs": []
    },
    {
      "cell_type": "code",
      "metadata": {
        "id": "DodJjz5WRrx_"
      },
      "source": [
        "\n",
        "#------------------------------imports EmbeddingNet------------------#\n",
        "import torch \n",
        "import torch.nn as nn\n",
        "import torchvision.models as models\n",
        "from torch.optim import Adam\n",
        "import torchvision\n",
        "\n",
        "import numpy as np\n",
        "from numpy import mean\n",
        "import torchvision.transforms as transforms\n",
        "#------------------------------imports Sampler-----------------------#\n",
        "from torch.utils.data.sampler import Sampler\n",
        "from collections import defaultdict\n",
        "import random\n",
        "import torch.nn.functional as F\n",
        "\n",
        "#------------------------------imports Dataset-----------------------#\n",
        "from PIL import Image\n",
        "import PIL.ImageOps\n",
        "\n",
        "from torchvision.datasets import ImageFolder\n",
        "from torch.utils.data import DataLoader\n",
        "\n",
        "import torchvision.datasets as dset\n",
        "\n",
        "from torch.utils.data import Dataset\n",
        "\n",
        "import os\n",
        "import matplotlib.pyplot as plt\n",
        "import numpy as np\n"
      ],
      "execution_count": null,
      "outputs": []
    },
    {
      "cell_type": "code",
      "metadata": {
        "id": "fzyQOcofS2d6",
        "colab": {
          "base_uri": "https://localhost:8080/"
        },
        "outputId": "193bbed5-586d-4cf9-fe7f-632744ac9966"
      },
      "source": [
        "from google.colab import drive\n",
        "drive.mount('/content/drive')"
      ],
      "execution_count": null,
      "outputs": [
        {
          "output_type": "stream",
          "text": [
            "Mounted at /content/drive\n"
          ],
          "name": "stdout"
        }
      ]
    },
    {
      "cell_type": "code",
      "metadata": {
        "id": "vNG6Epbm1RFM"
      },
      "source": [
        "def set_parameter_requires_grad(model,feature_extrating):\n",
        "  if feature_extrating:\n",
        "    for param in model.parameters():\n",
        "      param.requires_grad=False"
      ],
      "execution_count": null,
      "outputs": []
    },
    {
      "cell_type": "code",
      "metadata": {
        "id": "LOSDfy8dyGNX"
      },
      "source": [
        "def initialize_model(model_name,num_classes,feature_extrating,use_pretrained= True):\n",
        "  model_ft=None\n",
        "  if model_name==\"resnet18\":\n",
        "    model_ft= models.resnet18(pretrained=use_pretrained)\n",
        "    set_parameter_requires_grad(model_ft,feature_extrating)\n",
        "    num_ftrs = model_ft.fc.in_features\n",
        "    model_ft.fc = nn.Linear(num_ftrs,num_classes)\n",
        "\n",
        "  if model_name==\"resnet34\":\n",
        "    model_ft= models.resnet34(pretrained=use_pretrained)\n",
        "    set_parameter_requires_grad(model_ft,feature_extrating)\n",
        "    num_ftrs = model_ft.fc.in_features\n",
        "    model_ft.fc = nn.Linear(num_ftrs,num_classes)\n",
        "\n",
        "  if model_name==\"resnet50\":\n",
        "    model_ft= models.resnet50(pretrained=use_pretrained)\n",
        "    set_parameter_requires_grad(model_ft,feature_extrating)\n",
        "    num_ftrs = model_ft.fc.in_features\n",
        "    model_ft.fc = nn.Linear(num_ftrs,num_classes)\n",
        "  \n",
        "  if model_name==\"resnet101\":\n",
        "    model_ft= models.resnet101(pretrained=use_pretrained)\n",
        "    set_parameter_requires_grad(model_ft,feature_extrating)\n",
        "    num_ftrs = model_ft.fc.in_features\n",
        "    model_ft.fc = nn.Linear(num_ftrs,num_classes)\n",
        "    \n",
        "  if model_name==\"resnet152\":\n",
        "    model_ft= models.resnet152(pretrained=use_pretrained)\n",
        "    set_parameter_requires_grad(model_ft,feature_extrating)\n",
        "    num_ftrs = model_ft.fc.in_features\n",
        "    model_ft.fc = nn.Linear(num_ftrs,num_classes)\n",
        "  if model_name ==\"VGG19\":\n",
        "    model_ft= models.vgg19(pretrained=use_pretrained)\n",
        "    set_parameter_requires_grad(model_ft,feature_extrating)\n",
        "    num_ftrs= model_ft.classifier[6].in_features\n",
        "    model_ft.classifier[6] = nn.Linear(num_ftrs,num_classes)\n",
        "  if model_name ==\"VGG11\":\n",
        "    model_ft= models.vgg11(pretrained=use_pretrained)\n",
        "    set_parameter_requires_grad(model_ft,feature_extrating)\n",
        "    num_ftrs= model_ft.classifier[6].in_features\n",
        "    model_ft.classifier[6] = nn.Linear(num_ftrs,num_classes)\n",
        "  \n",
        "  if model_name ==\"densenet121\":\n",
        "    model_ft= models.densenet121(pretrained=use_pretrained)\n",
        "    set_parameter_requires_grad(model_ft,feature_extrating)\n",
        "    num_ftrs= model_ft.classifier.in_features\n",
        "    model_ft.classifier = nn.Linear(num_ftrs,num_classes)\n",
        "  if model_name ==\"densenet201\":\n",
        "    model_ft= models.densenet201(pretrained=use_pretrained)\n",
        "    set_parameter_requires_grad(model_ft,feature_extrating)\n",
        "    num_ftrs= model_ft.classifier.in_features\n",
        "    model_ft.classifier = nn.Linear(num_ftrs,num_classes)\n",
        "  return model_ft"
      ],
      "execution_count": null,
      "outputs": []
    },
    {
      "cell_type": "code",
      "metadata": {
        "id": "D5pH9uxOZ1Zf"
      },
      "source": [
        "class EmbeddingNet(nn.Module):\n",
        "  def __init__(self,model_name,num_classes,feature_extrating,use_pretrained):\n",
        "    super(EmbeddingNet,self).__init__()\n",
        "    self.backbone = model_name\n",
        "    if model_name is None:\n",
        "      #initialize_model(model_name,num_classes = 128,feature_extract,use_pretrained= True)\n",
        "      self.backbone = models.resnet18(num_classes=128)\n",
        "    else:\n",
        "        self.backbone =initialize_model(model_name,num_classes,feature_extrating,use_pretrained)\n",
        "    #self.backbone = backbone\n",
        "  def forward(self,x):\n",
        "    x=self.backbone(x)\n",
        "    x= nn.functional.normalize(x,dim=1)\n",
        "    return x\n"
      ],
      "execution_count": null,
      "outputs": []
    },
    {
      "cell_type": "code",
      "metadata": {
        "id": "NVinsN95iqLx"
      },
      "source": [
        "def show_plot_two(x_axis_array1,y_axis_array1,y_axis_array2,graph_1_lab=\"gr1\",graph_2_lab=\"gr2\",title=\"set title\",x_label=\"epoch\",y_label=\"loss\"):\n",
        "  \n",
        "  if len(x_axis_array1)!= len(y_axis_array1):\n",
        "    ly1 =min(len(x_axis_array1),len(y_axis_array1))\n",
        "    ly2 =min(len(x_axis_array1),len(y_axis_array2))\n",
        "    \n",
        "    plt.plot(x_axis_array1[:ly1],y_axis_array1[:ly1],label=graph_1_lab)\n",
        "    plt.plot(x_axis_array1[:ly2],y_axis_array2[:ly2],label=graph_2_lab)\n",
        "  else:\n",
        "    plt.plot(x_axis_array1,y_axis_array1,label=graph_1_lab)\n",
        "    plt.plot(x_axis_array1,y_axis_array2,label=graph_2_lab)\n",
        "\n",
        "  plt.xlabel(x_label)\n",
        "  plt.ylabel(y_label)   \n",
        "  plt.title(title)\n",
        "  plt.legend(loc='upper right')\n",
        "  plt.show()"
      ],
      "execution_count": null,
      "outputs": []
    },
    {
      "cell_type": "code",
      "metadata": {
        "id": "-ANJynxPSo2u"
      },
      "source": [
        "def show_plot(x_axis_array,y_axis_array, title=\"set title\",x_label=\"set_xlabes\",y_label=\"set_ylabels\"):\n",
        "  plt.plot(x_axis_array,y_axis_array)\n",
        "  plt.xlabel(x_label)\n",
        "  plt.ylabel(y_label)\n",
        "  plt.title(title)\n",
        "  plt.legend(loc='upper right')\n",
        "  plt.show()"
      ],
      "execution_count": null,
      "outputs": []
    },
    {
      "cell_type": "code",
      "metadata": {
        "id": "GR6xu2PnKaaW"
      },
      "source": [
        "class OnlineTripletDataset(Dataset):\n",
        "  def __init__(self,imageFolderDataset,transform=None,should_invert=True):\n",
        "    self.imageFolderDataset = imageFolderDataset\n",
        "    self.should_invert= should_invert\n",
        "    self.transform = transform\n",
        "    self.targets = [name[1] for name in self.imageFolderDataset.imgs]\n",
        "    self.targets = list(set(self.targets))\n",
        "  def __getitem__(self,index):\n",
        "    img0_tuple = random.choice(self.imageFolderDataset.imgs)\n",
        "    img0 = Image.open(img0_tuple[0])\n",
        "    target = img0_tuple[1]\n",
        "\n",
        "    if self.should_invert:\n",
        "      img0=PIL.ImageOps.invert(img0)\n",
        "    if self.transform is not None:\n",
        "      img0=self.transform(img0)\n",
        "    return img0, torch.from_numpy(np.array([int(target)],dtype=np.float32))\n",
        "  def __len__(self):\n",
        "    return (len(self.imageFolderDataset.imgs))\n"
      ],
      "execution_count": null,
      "outputs": []
    },
    {
      "cell_type": "code",
      "metadata": {
        "id": "dv75g9oX3BIH"
      },
      "source": [
        "accuracy_list = []\n",
        "embeds = []\n",
        "labels= []\n",
        "train_loss = []\n",
        "test_loss = []\n",
        "epoch_iterator = []\n",
        "test_iterator = []\n",
        "dists = None"
      ],
      "execution_count": null,
      "outputs": []
    },
    {
      "cell_type": "code",
      "metadata": {
        "id": "b2aqPmp_iPLy"
      },
      "source": [
        "def train_epoch(model,optimizer,loss_optimizer,criterion,data_loader,device,epoch,print_freq):\n",
        "  \n",
        "  model.train()\n",
        "  running_loss = 0;\n",
        "  running_frac_pos_triplets= 0\n",
        "  epoch_iterator.append(epoch)\n",
        "  for i, data in enumerate(data_loader):\n",
        "    optimizer.zero_grad()\n",
        "    samples, targets = data[0].to(device),data[1].to(device)\n",
        "    embeddings = model(samples)\n",
        "    #print(\"Size of tagerts \",targets.size())\n",
        "\n",
        "    #loss,frac_pos_triplets = criterion(embeddings,targets)\n",
        "    targets = torch.flatten(targets)\n",
        "    loss = criterion(embeddings,targets)\n",
        "    loss.backward()\n",
        "    optimizer.step()\n",
        "    loss_optimizer.step()\n",
        "    running_loss +=loss.item()\n",
        "\n",
        "    #running_frac_pos_triplets+=float(frac_pos_triplets)\n",
        "\n",
        "    if i%print_freq ==print_freq-1:\n",
        "      i+=1\n",
        "      avg_loss = running_loss/print_freq\n",
        "      train_loss.append(avg_loss)\n",
        "      \n",
        "      #avg_trip =100.0*running_frac_pos_triplets/print_freq\n",
        "      #print('[{:d}, {:d}] | loss: {:.4f} | % avg hard triplets: {:.2f}%'.format(epoch, i, avg_loss, avg_trip))\n",
        "      print('[{:d}, {:d}] | loss: {:.4f}'.format(epoch, i, avg_loss))\n",
        "      running_loss = 0\n",
        "      running_frac_pos_triplets = 0"
      ],
      "execution_count": null,
      "outputs": []
    },
    {
      "cell_type": "code",
      "metadata": {
        "id": "rWwUJ9IkcEmq"
      },
      "source": [
        "def imshow(img,text=None,should_save= False):\n",
        "  npimg = img.cpu().numpy()\n",
        "  plt.axis(\"off\")\n",
        "  if text:\n",
        "    plt.text(75,8,text,style='italic',fontweight='bold',bbox={'facecolor':'white','alpha':0.8,'pad':10})\n",
        "  plt.imshow(np.transpose(npimg,(1,2,0)))\n",
        "  plt.show()\n",
        "  "
      ],
      "execution_count": null,
      "outputs": []
    },
    {
      "cell_type": "code",
      "metadata": {
        "id": "5OO0cD7Of64A"
      },
      "source": [
        "def save(model,epoch,save_dir,file_name):\n",
        "  file_name = 'epoch_'+str(epoch)+'_'+file_name\n",
        "  save_path =os.path.join(save_dir,file_name)\n",
        "  torch.save(model.state_dict(),save_path)"
      ],
      "execution_count": null,
      "outputs": []
    },
    {
      "cell_type": "code",
      "metadata": {
        "id": "scWKE9nPGUTP",
        "colab": {
          "base_uri": "https://localhost:8080/"
        },
        "outputId": "8bca3f39-38f5-4e28-9348-2b91ff5b8699"
      },
      "source": [
        "\n",
        "folder_dataset_train = dset.ImageFolder(root=\"/content/drive/My Drive/Chimp_Data/tai/train\")\n",
        "#folder_dataset_test = dset.ImageFolder(root=\"/content/drive/My Drive/ColabNotebooks/DataProcessed/Nyla_Data/val\")\n",
        "\n",
        "train_dataset = OnlineTripletDataset(imageFolderDataset=folder_dataset_train,transform=transforms.Compose([transforms.Resize(128),transforms.CenterCrop(124),transforms.ToTensor()]),should_invert=False)\n",
        "#test_dataset= OnlineTripletDataset(imageFolderDataset=folder_dataset_test,transform=transforms.Compose([transforms.Resize(28),transforms.CenterCrop(124),transforms.ToTensor(),transforms.Normalize([0.485,0.456,0.406],[0.229,0.224,0.225])]),should_invert=False)\n",
        "\n",
        "targets = train_dataset.targets\n",
        "#train_dataloader = DataLoader(train_dataset,sampler=PKSampler(targets,p,k),num_workers =4,batch_size=6)\n",
        "train_dataloader = DataLoader(train_dataset,num_workers =4,batch_size=6)\n",
        "print(\"Total targets train = \"+str(len(targets)))"
      ],
      "execution_count": null,
      "outputs": [
        {
          "output_type": "stream",
          "text": [
            "Total targets train = 78\n"
          ],
          "name": "stdout"
        }
      ]
    },
    {
      "cell_type": "code",
      "metadata": {
        "id": "6GqhQ7-2_iPu",
        "colab": {
          "base_uri": "https://localhost:8080/"
        },
        "outputId": "6e332280-add2-4322-ada9-c48f439765c7"
      },
      "source": [
        "folder_dataset_test = dset.ImageFolder(root=\"/content/drive/My Drive/Chimp_Data/tai/val\")\n",
        "#folder_dataset_test = dset.ImageFolder(root=\"/content/drive/My Drive/ColabNotebooks/DataProcessed/Lion_Data/val\")\n",
        "\n",
        "#train_dataset = OnlineTripletDataset(imageFolderDataset=folder_dataset_train,transform=transforms.Compose([transforms.Resize(28),transforms.CenterCrop(24),transforms.ToTensor()]),should_invert=False)\n",
        "test_dataset= OnlineTripletDataset(imageFolderDataset=folder_dataset_test,transform=transforms.Compose([transforms.Resize(128),transforms.CenterCrop(124),transforms.ToTensor(),transforms.Normalize([0.485,0.456,0.406],[0.229,0.224,0.225])]),should_invert=False)\n",
        "test_dataloader = DataLoader(test_dataset,num_workers=4,batch_size=6,shuffle=False) \n",
        "targets_test = test_dataset.targets\n",
        "print(\"targets test \",str(len(targets_test)))\n",
        "device = torch.device('cuda')"
      ],
      "execution_count": null,
      "outputs": [
        {
          "output_type": "stream",
          "text": [
            "targets test  61\n"
          ],
          "name": "stdout"
        }
      ]
    },
    {
      "cell_type": "code",
      "metadata": {
        "id": "befrcc4eW_CL",
        "colab": {
          "base_uri": "https://localhost:8080/"
        },
        "outputId": "29c48333-62b5-4128-f89f-a560bf4417cf"
      },
      "source": [
        "backbone_name = [\"resnet18\",\"resnet34\",\"resnet50\",\"resnet101\",\"resnet152\",\"VGG19\",\"VGG11\",\"densenet121\",\"densenet201\"]\n",
        "feature_extract =True\n",
        "extract_or_fine_tune=[\"tune\",\"extr\"]\n",
        "dataset_used=\"Chimp_Data\"\n",
        "backbone = backbone_name[6]\n",
        "mode_train =extract_or_fine_tune[feature_extract]\n",
        "saved_model=backbone+mode_train+dataset_used+\".pt\"\n",
        "dim = [64,128,512]\n",
        "dim_embedd = dim[2]\n",
        "print(saved_model)"
      ],
      "execution_count": null,
      "outputs": [
        {
          "output_type": "stream",
          "text": [
            "VGG11extrChimp_Data.pt\n"
          ],
          "name": "stdout"
        }
      ]
    },
    {
      "cell_type": "code",
      "metadata": {
        "id": "EcVNaMv9R_Y1"
      },
      "source": [
        "def get_all_embeddings(dataset,model):\r\n",
        "  tester = testers.BaseTester()\r\n",
        "  return tester.get_all_embeddings(dataset,model)\r\n"
      ],
      "execution_count": null,
      "outputs": []
    },
    {
      "cell_type": "code",
      "metadata": {
        "id": "I67hdXEnTuiR"
      },
      "source": [
        "def test(test1_samples,test2_samples,model,accuracy_calculator):\r\n",
        "  test1_embeddings,test1_labels = get_all_embeddings(test1_samples,model)\r\n",
        "  test2_embeddings,test2_labels = get_all_embeddings(test2_samples,model)\r\n",
        "  accuracies = accuracy_calculator.get_accuracy(test1_embeddings,test2_embeddings,np.squeeze(test1_labels),np.squeeze(test2_labels),False)\r\n",
        "  print(\"Test accuracy (precision@1) = {}\".format(accuracies[\"precision_at_1\"]))\r\n",
        "  print(\"Test accuracy (mean average precision@R) = {}\".format(accuracies[\"mean_average_precision_at_r\"]))\r\n"
      ],
      "execution_count": null,
      "outputs": []
    },
    {
      "cell_type": "code",
      "metadata": {
        "id": "fmysnzus_ej7"
      },
      "source": [
        "\n",
        "def test_epoch(model,criterion,loss_optimizer,data_loader,device,epoch,print_freq):\n",
        "  model.eval()\n",
        "  model.to(device)\n",
        "  running_loss = 0;\n",
        "  running_frac_pos_triplets= 0\n",
        "  model_string = \"/content/drive/My Drive/Chimp_Data/epoch_\"+str(epoch)+\"_\"+saved_model\n",
        "  model.load_state_dict(torch.load(model_string))\n",
        "  test_iterator.append(epoch)\n",
        "  for i, data in enumerate(data_loader):\n",
        "    samples, targets = data[0].to(device),data[1].to(device)\n",
        "    targets = torch.flatten(targets)\n",
        "    embeddings = model(samples) \n",
        "    loss = criterion(embeddings,targets)\n",
        "    loss_optimizer.step()\n",
        "\n",
        "    running_loss +=loss.item()\n",
        "    if i%print_freq ==print_freq-1:\n",
        "      i+=1\n",
        "      avg_loss = running_loss/print_freq\n",
        "      test_loss.append(avg_loss)\n",
        "      print('[{:d}, {:d}] | loss: {:.4f}'.format(epoch, i, avg_loss))\n",
        "      running_loss = 0\n",
        "      running_frac_pos_triplets = 0"
      ],
      "execution_count": null,
      "outputs": []
    },
    {
      "cell_type": "code",
      "metadata": {
        "id": "lGCKEVVg7RSk",
        "colab": {
          "base_uri": "https://localhost:8080/",
          "height": 1000
        },
        "outputId": "879eb5e1-1499-4760-fb2d-a4d6008e1392"
      },
      "source": [
        "test_loss = []\n",
        "test_iterator = []\n",
        "def main():\n",
        "  device = torch.device('cuda:0')\n",
        "  feature_extract = True \n",
        "  #using model as a feature extractor... not fineturning all layers\n",
        "  model = EmbeddingNet(backbone,dim_embedd,feature_extract,True)\n",
        "  model.to(device)\n",
        "  params_to_update = model.parameters()\n",
        "  if feature_extract:\n",
        "    params_to_update= []\n",
        "    for name, param in model.named_parameters():\n",
        "      if param.requires_grad==True:\n",
        "        params_to_update.append(param)\n",
        "        print(\"\\t\",name)\n",
        "  else:\n",
        "    for name,param in model.named_parameters():\n",
        "      if param.requires_grad==True:\n",
        "        print(\"\\t\",name)\n",
        "  print_freq = 510\n",
        "  criterion = losses.ProxyNCALoss(78,dim_embedd,softmax_scale=1)\n",
        "  optimizer = Adam(params_to_update,lr=0.0001)\n",
        "  loss_optimizer = Adam(criterion.parameters(),lr=0.01)\n",
        "  for epoch in range(1,31):\n",
        "    print('Training...',backbone,mode_train)\n",
        "    train_epoch(model,optimizer,loss_optimizer,criterion,train_dataloader,device,epoch,print_freq)\n",
        "    save(model,epoch,\"/content/drive/My Drive/Chimp_Data/\",saved_model)\n",
        "  feature_extract = False \n",
        "  #using model as a feature extractor... not fineturning all layers\n",
        "  model = EmbeddingNet(backbone,dim_embedd,feature_extract,True)\n",
        "  loss_optimizer = Adam(criterion.parameters(),lr=0.01)\n",
        "  print_freq = 116\n",
        "  for epoch in range(1,31):\n",
        "    print('Testing ...',backbone,mode_train)\n",
        "    test_epoch(model,criterion,loss_optimizer,test_dataloader,device,epoch,print_freq)    \n",
        "  show_plot_two(test_iterator,train_loss,test_loss,\"train\",\"validate\",\"Triplet loss\")\n",
        "if __name__ == '__main__':\n",
        "  main()"
      ],
      "execution_count": null,
      "outputs": [
        {
          "output_type": "stream",
          "text": [
            "\t backbone.classifier.6.weight\n",
            "\t backbone.classifier.6.bias\n",
            "Training... VGG11 extr\n",
            "[1, 510] | loss: 3.7687\n",
            "Training... VGG11 extr\n",
            "[2, 510] | loss: 3.5008\n",
            "Training... VGG11 extr\n",
            "[3, 510] | loss: 3.3956\n",
            "Training... VGG11 extr\n",
            "[4, 510] | loss: 3.3699\n",
            "Training... VGG11 extr\n",
            "[5, 510] | loss: 3.3426\n",
            "Training... VGG11 extr\n",
            "[6, 510] | loss: 3.3275\n",
            "Training... VGG11 extr\n",
            "[7, 510] | loss: 3.3163\n",
            "Training... VGG11 extr\n",
            "[8, 510] | loss: 3.2961\n",
            "Training... VGG11 extr\n",
            "[9, 510] | loss: 3.2807\n",
            "Training... VGG11 extr\n",
            "[10, 510] | loss: 3.2826\n",
            "Training... VGG11 extr\n",
            "[11, 510] | loss: 3.3043\n",
            "Training... VGG11 extr\n",
            "[12, 510] | loss: 3.2721\n",
            "Training... VGG11 extr\n",
            "[13, 510] | loss: 3.2688\n",
            "Training... VGG11 extr\n",
            "[14, 510] | loss: 3.2660\n",
            "Training... VGG11 extr\n",
            "[15, 510] | loss: 3.2529\n",
            "Training... VGG11 extr\n",
            "[16, 510] | loss: 3.2392\n",
            "Training... VGG11 extr\n",
            "[17, 510] | loss: 3.2484\n",
            "Training... VGG11 extr\n",
            "[18, 510] | loss: 3.2422\n",
            "Training... VGG11 extr\n",
            "[19, 510] | loss: 3.2449\n",
            "Training... VGG11 extr\n",
            "[20, 510] | loss: 3.2216\n",
            "Training... VGG11 extr\n",
            "[21, 510] | loss: 3.2259\n",
            "Training... VGG11 extr\n",
            "[22, 510] | loss: 3.2260\n",
            "Training... VGG11 extr\n",
            "[23, 510] | loss: 3.2242\n",
            "Training... VGG11 extr\n",
            "[24, 510] | loss: 3.2262\n",
            "Training... VGG11 extr\n",
            "[25, 510] | loss: 3.2215\n",
            "Training... VGG11 extr\n",
            "[26, 510] | loss: 3.2513\n",
            "Training... VGG11 extr\n",
            "[27, 510] | loss: 3.2219\n",
            "Training... VGG11 extr\n",
            "[28, 510] | loss: 3.2428\n",
            "Training... VGG11 extr\n",
            "[29, 510] | loss: 3.2106\n",
            "Training... VGG11 extr\n",
            "[30, 510] | loss: 3.2169\n",
            "Testing ... VGG11 extr\n",
            "[1, 116] | loss: 4.5469\n",
            "Testing ... VGG11 extr\n",
            "[2, 116] | loss: 4.5631\n",
            "Testing ... VGG11 extr\n",
            "[3, 116] | loss: 4.5051\n",
            "Testing ... VGG11 extr\n",
            "[4, 116] | loss: 4.5056\n",
            "Testing ... VGG11 extr\n",
            "[5, 116] | loss: 4.5485\n",
            "Testing ... VGG11 extr\n",
            "[6, 116] | loss: 4.5355\n",
            "Testing ... VGG11 extr\n",
            "[7, 116] | loss: 4.6007\n",
            "Testing ... VGG11 extr\n",
            "[8, 116] | loss: 4.5720\n",
            "Testing ... VGG11 extr\n",
            "[9, 116] | loss: 4.5413\n",
            "Testing ... VGG11 extr\n",
            "[10, 116] | loss: 4.5316\n",
            "Testing ... VGG11 extr\n",
            "[11, 116] | loss: 4.6387\n",
            "Testing ... VGG11 extr\n",
            "[12, 116] | loss: 4.6225\n",
            "Testing ... VGG11 extr\n",
            "[13, 116] | loss: 4.5924\n",
            "Testing ... VGG11 extr\n",
            "[14, 116] | loss: 4.6240\n",
            "Testing ... VGG11 extr\n",
            "[15, 116] | loss: 4.5603\n",
            "Testing ... VGG11 extr\n",
            "[16, 116] | loss: 4.5836\n",
            "Testing ... VGG11 extr\n",
            "[17, 116] | loss: 4.5547\n",
            "Testing ... VGG11 extr\n",
            "[18, 116] | loss: 4.6746\n",
            "Testing ... VGG11 extr\n",
            "[19, 116] | loss: 4.6157\n",
            "Testing ... VGG11 extr\n",
            "[20, 116] | loss: 4.6188\n",
            "Testing ... VGG11 extr\n",
            "[21, 116] | loss: 4.5967\n",
            "Testing ... VGG11 extr\n",
            "[22, 116] | loss: 4.6075\n",
            "Testing ... VGG11 extr\n",
            "[23, 116] | loss: 4.6088\n",
            "Testing ... VGG11 extr\n",
            "[24, 116] | loss: 4.6181\n",
            "Testing ... VGG11 extr\n",
            "[25, 116] | loss: 4.6872\n",
            "Testing ... VGG11 extr\n",
            "[26, 116] | loss: 4.5781\n",
            "Testing ... VGG11 extr\n",
            "[27, 116] | loss: 4.6108\n",
            "Testing ... VGG11 extr\n",
            "[28, 116] | loss: 4.6468\n",
            "Testing ... VGG11 extr\n",
            "[29, 116] | loss: 4.5791\n",
            "Testing ... VGG11 extr\n",
            "[30, 116] | loss: 4.6213\n"
          ],
          "name": "stdout"
        },
        {
          "output_type": "display_data",
          "data": {
            "image/png": "[encoded data removed]",
            "text/plain": [
              "<Figure size 432x288 with 1 Axes>"
            ]
          },
          "metadata": {
            "tags": [],
            "needs_background": "light"
          }
        }
      ]
    },
    {
      "cell_type": "code",
      "metadata": {
        "colab": {
          "base_uri": "https://localhost:8080/"
        },
        "id": "01jtnL_zXMZZ",
        "outputId": "ac5822c3-c3eb-49a5-e82d-2588a8d16211"
      },
      "source": [
        "\r\n",
        "print(\"Evaluating model\",backbone,mode_train)\r\n",
        "test_dataset1= OnlineTripletDataset(imageFolderDataset=folder_dataset_test,transform=transforms.Compose([transforms.Resize(128),transforms.CenterCrop(124),transforms.ToTensor(),transforms.Normalize([0.485,0.456,0.406],[0.229,0.224,0.225])]),should_invert=False)\r\n",
        "test_dataset2= OnlineTripletDataset(imageFolderDataset=folder_dataset_test,transform=transforms.Compose([transforms.Resize(128),transforms.CenterCrop(124),transforms.ToTensor(),transforms.Normalize([0.485,0.456,0.406],[0.229,0.224,0.225])]),should_invert=False)\r\n",
        "\r\n",
        "accuracy_calculator = AccuracyCalculator(include = (\"precision_at_1\",\"mean_average_precision_at_r\",),k=1)\r\n",
        "model = EmbeddingNet(backbone,dim_embedd,False,True)\r\n",
        "model.to(device)\r\n",
        "model_string = \"/content/drive/My Drive/Chimp_Data/epoch_\"+str(30)+\"_\"+saved_model\r\n",
        "model.load_state_dict(torch.load(model_string))\r\n",
        "test(test_dataset1,test_dataset2,model,accuracy_calculator)\r\n",
        "\r\n",
        "\r\n"
      ],
      "execution_count": null,
      "outputs": [
        {
          "output_type": "stream",
          "text": [
            "Evaluating model VGG11 extr\n"
          ],
          "name": "stdout"
        },
        {
          "output_type": "stream",
          "text": [
            "100%|██████████| 29/29 [00:08<00:00,  3.60it/s]\n",
            "100%|██████████| 29/29 [00:07<00:00,  3.77it/s]"
          ],
          "name": "stderr"
        },
        {
          "output_type": "stream",
          "text": [
            "Test accuracy (precision@1) = 0.6763392857142857\n",
            "Test accuracy (mean average precision@R) = 0.6763392857142857\n"
          ],
          "name": "stdout"
        },
        {
          "output_type": "stream",
          "text": [
            "\n"
          ],
          "name": "stderr"
        }
      ]
    },
    {
      "cell_type": "code",
      "metadata": {
        "id": "ZXVYlYv6Q6Cu",
        "colab": {
          "base_uri": "https://localhost:8080/"
        },
        "outputId": "cb3b857e-cec6-4b85-e2d1-fd62cf764cfb"
      },
      "source": [
        "print('Evaluating . . . ',backbone,mode_train)\n",
        "#http://queirozf.com/entries/evaluation-metrics-for-ranking-problems-introduction-and-examples\n",
        "#https://ils.unc.edu/courses/2013_spring/inls509_001/lectures/10-EvaluationMetrics.pdf\n",
        "test_dataloader2 = DataLoader(test_dataset,num_workers=4,batch_size=1,shuffle=False)\n",
        "model = EmbeddingNet(backbone,dim_embedd,False,True)\n",
        "model.eval()\n",
        "model.to(device)\n",
        "accuracy_list = []\n",
        "recall1_list = []\n",
        "precision1_list = []\n",
        "\n",
        "recall2_list = []\n",
        "precision2_list = []\n",
        "\n",
        "for i in range(1,30):\n",
        "  accuracy = 0\n",
        "  total = 0\n",
        "  true_positive = 0\n",
        "  true_negative = 0\n",
        "  false_positive=0\n",
        "  false_negative =0\n",
        "\n",
        "  data_iter = iter(test_dataloader2)\n",
        "\n",
        "  img0,target0 =next(data_iter)\n",
        "  img0 = img0.to(device)\n",
        "  target0 = target0.to(device)\n",
        "  #print(target0.item())\n",
        "  model_string = \"/content/drive/My Drive/Chimp_Data/epoch_\"+str(30)+\"_\"+saved_model\n",
        "  model.load_state_dict(torch.load(model_string))\n",
        "  precision_c1 = 0.0\n",
        "  recall_c1 = 0.0\n",
        "\n",
        "  precision_c2 = 0.0\n",
        "  recall_c2 = 0.0\n",
        "  for i,data in enumerate(test_dataloader2):\n",
        "    img1,target1 =data[0].to(device),data[1].to(device)\n",
        "    embed0= model(img0)\n",
        "    embed1= model(img1)\n",
        "    contactenated = torch.cat((img0,img1),0)\n",
        "    dist =  F.pairwise_distance(embed0,embed1)\n",
        "    if target1.item() == target0.item():\n",
        "      \n",
        "      if dist<0.002:\n",
        "        true_positive+=1\n",
        "        total+=1\n",
        "      else:\n",
        "        false_positive+=1\n",
        "        total+=1\n",
        "    else:\n",
        "        if dist>=0.002:\n",
        "          true_negative+=1\n",
        "          total+=1\n",
        "        else:\n",
        "          false_negative+=1\n",
        "          total+=1\n",
        "  acc = (true_positive+true_negative)/total\n",
        "  accuracy_list.append(acc)\n",
        "  if true_positive !=0: \n",
        "    recall_c1 = true_positive /(true_positive+false_negative) \n",
        "    recall1_list.append(recall_c1)\n",
        "    precision_c1 =true_positive/(true_positive+false_positive)\n",
        "    precision1_list.append(precision_c1)\n",
        "  if true_negative!=0:\n",
        "    precision_c2 = true_negative/(true_negative+false_positive)\n",
        "    precision2_list.append(precision_c2)\n",
        "    recall_c2 = true_negative/(true_negative+false_negative)\n",
        "    recall2_list.append(recall_c2)\n",
        "\n",
        "print('Accuracy: {0:.1f}, Recall: {1:.1f} Precision: {2:.1f}'.format(mean(accuracy_list),mean(recall1_list),mean(precision1_list)))\n",
        "print('Accuracy: {0:.1f}, Recall: {1:.1f} Precision: {2:.1f}'.format(mean(accuracy_list),mean(recall2_list),mean(precision2_list)))"
      ],
      "execution_count": null,
      "outputs": [
        {
          "output_type": "stream",
          "text": [
            "Evaluating . . .  resnet18 extr\n",
            "Accuracy: 1.0, Recall: 1.0 Precision: 0.1\n",
            "Accuracy: 1.0, Recall: 1.0 Precision: 1.0\n"
          ],
          "name": "stdout"
        }
      ]
    },
    {
      "cell_type": "code",
      "metadata": {
        "id": "9mct961CxL_y"
      },
      "source": [
        "def plot_dists(y_points1,y_points2,color1=\"blue\",color2=\"orange\"):\n",
        "  list_size = len(y_points1)\n",
        "\n",
        "  plt.scatter(y_points1,y_points1,c=color1,s=5,label=\"same label\")\n",
        "  #list_size = len(y_points2)\n",
        "  #x_list = np.arange(0,list_size,1)\n",
        "  new_list = y_points2[:list_size]\n",
        "  plt.scatter(new_list,new_list,c=color2,s=5,label =\"different label\")\n",
        "  plt.xlabel('distances range')\n",
        "  plt.ylabel('distances')\n",
        "\n",
        "  plt.legend(loc='upper left')\n",
        "  plt.show()\n"
      ],
      "execution_count": null,
      "outputs": []
    },
    {
      "cell_type": "code",
      "metadata": {
        "id": "siuoXDTrQxow"
      },
      "source": [
        "def plot_dists_all(y_points1,y_points2,color1=\"blue\",color2=\"orange\"):\n",
        "\n",
        "  list_size = len(y_points1)\n",
        "  x_list = np.linspace(0,30,num=list_size)\n",
        "  plt.scatter(x_list,y_points1,c=color1,s=5,label=\"same label\")\n",
        "  list_size = len(y_points2)\n",
        "  x_list = np.linspace(0,30,num=list_size)\n",
        "  plt.scatter(x_list,y_points2,c=color2,s=5,label=\"different label\")\n",
        "  #plt.xlim(0.01,0.008)\n",
        "  plt.xlabel('Batch')\n",
        "  plt.ylabel('distances')\n",
        "\n",
        "  plt.legend(loc='upper left')\n",
        "  plt.show()"
      ],
      "execution_count": null,
      "outputs": []
    },
    {
      "cell_type": "code",
      "metadata": {
        "id": "45GUHJLc2F1P",
        "colab": {
          "base_uri": "https://localhost:8080/",
          "height": 298
        },
        "outputId": "59dcbbdf-3bd0-4534-d914-7cc236519dbe"
      },
      "source": [
        "print('Plotting dists. . . ',backbone)\n",
        "#http://queirozf.com/entries/evaluation-metrics-for-ranking-problems-introduction-and-examples\n",
        "#https://ils.unc.edu/courses/2013_spring/inls509_001/lectures/10-EvaluationMetrics.pdf\n",
        "test_dataloader2 = DataLoader(test_dataset,num_workers=4,batch_size=1,shuffle=False)\n",
        "model = EmbeddingNet(backbone,128,False,True)\n",
        "model.eval()\n",
        "model.to(device)\n",
        "model_string = \"/content/drive/My Drive/Chimp_Data/epoch_\"+str(30)+\"_\"+saved_model\n",
        "model.load_state_dict(torch.load(model_string))\n",
        "accuracy_list = []\n",
        "recall1_list = []\n",
        "precision1_list = []\n",
        "\n",
        "recall2_list = []\n",
        "precision2_list = []\n",
        "\n",
        "same_class_dists=[]\n",
        "diff_class_dists=[]\n",
        "\n",
        "same_class_dists_av=[]\n",
        "diff_class_dists_av=[]\n",
        "data_iter = iter(test_dataloader2)\n",
        "for j in range(1,200):  \n",
        "  img0,target0 =next(data_iter)\n",
        "  img0 = img0.to(device)\n",
        "  target0 = target0.to(device)\n",
        "  embed0= model(img0)\n",
        "  for i,data in enumerate(test_dataloader2):\n",
        "    img1,target1 =data[0].to(device),data[1].to(device)\n",
        "    embed1= model(img1)\n",
        "    dist =  F.pairwise_distance(embed0,embed1)\n",
        "    dist_a = round(dist.item(),4)\n",
        "    if target1.item() == target0.item():\n",
        "      same_class_dists.append(dist_a)\n",
        "      if(j %50 == 0):\n",
        "        same_class_dists_av.append(np.mean(same_class_dists))\n",
        "        same_class_dists = []\n",
        "    else:\n",
        "      diff_class_dists.append(dist_a)\n",
        "      if j%50 == 0 :\n",
        "        diff_class_dists_av.append(np.mean(diff_class_dists))\n",
        "        diff_class_dists = []\n",
        "plot_dists(same_class_dists_av,diff_class_dists_av)\n",
        "  "
      ],
      "execution_count": null,
      "outputs": [
        {
          "output_type": "stream",
          "text": [
            "Plotting dists. . .  resnet18\n"
          ],
          "name": "stdout"
        },
        {
          "output_type": "display_data",
          "data": {
            "image/png": "[encoded data removed]",
            "text/plain": [
              "<Figure size 432x288 with 1 Axes>"
            ]
          },
          "metadata": {
            "tags": [],
            "needs_background": "light"
          }
        }
      ]
    },
    {
      "cell_type": "code",
      "metadata": {
        "id": "JxsYSuUKPbZp"
      },
      "source": [
        "plot_dists(same_class_dists_av,diff_class_dists_av)"
      ],
      "execution_count": null,
      "outputs": []
    },
    {
      "cell_type": "code",
      "metadata": {
        "id": "9KyJfVT2RIek",
        "colab": {
          "base_uri": "https://localhost:8080/",
          "height": 279
        },
        "outputId": "7a7fdb1f-c4a7-45f6-e19e-b7bf0fb37e76"
      },
      "source": [
        "\n",
        "plot_dists_all(same_class_dists_av,diff_class_dists_av)"
      ],
      "execution_count": null,
      "outputs": [
        {
          "output_type": "display_data",
          "data": {
            "image/png": "[encoded data removed]",
            "text/plain": [
              "<Figure size 432x288 with 1 Axes>"
            ]
          },
          "metadata": {
            "tags": [],
            "needs_background": "light"
          }
        }
      ]
    },
    {
      "cell_type": "code",
      "metadata": {
        "id": "HuKK5sgUyLdE",
        "colab": {
          "base_uri": "https://localhost:8080/",
          "height": 54
        },
        "outputId": "b30d334c-0561-4c35-b8ab-dca2e12ff75d"
      },
      "source": [
        "#plot_dists_all(same_class_dists_av,diff_class_dists_av)\n",
        "print('Mean distance between images in same class {:.4f}'.format(np.mean(same_class_dists_av)))\n",
        "print('Mean distance between images in different class {:.4f}'.format(np.mean(diff_class_dists_av)))\n"
      ],
      "execution_count": null,
      "outputs": [
        {
          "output_type": "stream",
          "text": [
            "Mean distance between images in same class 0.0003\n",
            "Mean distance between images in different class 0.0004\n"
          ],
          "name": "stdout"
        }
      ]
    },
    {
      "cell_type": "code",
      "metadata": {
        "id": "DgyZjEEHyL1H",
        "colab": {
          "base_uri": "https://localhost:8080/",
          "height": 36
        },
        "outputId": "d640a72b-db35-4a21-aec6-918717f23707"
      },
      "source": [
        "print('Evaluation  mAP  . . ',backbone,mode_train)\n",
        "#http://queirozf.com/entries/evaluation-metrics-for-ranking-problems-introduction-and-examples\n",
        "#https://ils.unc.edu/courses/2013_spring/inls509_001/lectures/10-EvaluationMetrics.pdf\n",
        "test_dataloader2 = DataLoader(test_dataset,num_workers=4,batch_size=1,shuffle=False)\n",
        "model = EmbeddingNet(backbone,128,False,True)\n",
        "model.eval()\n",
        "model.to(device)\n",
        "accuracy_list = []\n",
        "recall1_list = []\n",
        "precision1_list = []\n",
        "\n",
        "relevant_items1 = 0\n",
        "relevant_items2 = 0\n",
        "recall2_list = []\n",
        "precision2_list = []\n",
        "model_string = \"/content/drive/My Drive/Chimp_Data/epoch_\"+str(30)+\"_\"+saved_model\n",
        "model.load_state_dict(torch.load(model_string))\n",
        "\n",
        "mean_average_prec = []\n",
        "data_iter = iter(test_dataloader2)\n",
        "for i in range(1,200):\n",
        "  dist_class = []\n",
        "  img0,target0 =next(data_iter)\n",
        "  img0 = img0.to(device)\n",
        "  target0 = target0.to(device)\n",
        "  for d,data in enumerate(test_dataloader2):\n",
        "    img1,target1 =data[0].to(device),data[1].to(device)\n",
        "    embed0= model(img0)\n",
        "    embed1= model(img1)\n",
        "    #contactenated = torch.cat((img0,img1),0)\n",
        "    dist =  F.pairwise_distance(embed0,embed1)\n",
        "    dist_r = round(dist.item(),4)\n",
        "    if target1.item() == target0.item():\n",
        "      relevant_items1=relevant_items1 + 1\n",
        "      t = (dist_r,0)\n",
        "      dist_class.append(t)\n",
        "    else:\n",
        "      relevant_items2=relevant_items2+1\n",
        "      t = (dist_r,1)\n",
        "      dist_class.append(t)\n",
        "  dist_class.sort(key = lambda x: x[0])\n",
        "  true_positive_class1 = 0\n",
        "  false_positive_class1 = 0\n",
        "  \n",
        "  true_negative_class1 = 0\n",
        "  false_negative_class1 = 0\n",
        "  total = 0\n",
        "  predicted_positive = 0\n",
        "  p = 0\n",
        "  for data in dist_class:\n",
        "    distance,class_ind = data[0],data[1]\n",
        "    if class_ind==0:\n",
        "      total= total+1\n",
        "      if distance<0.002:\n",
        "        true_positive_class1=true_positive_class1+1\n",
        "        predicted_positive=predicted_positive+1\n",
        "        p = p+(true_positive_class1/total)\n",
        "  \n",
        "  ap =0\n",
        "  if  predicted_positive>0:\n",
        "    ap= p/predicted_positive\n",
        "  precision1_list.append(ap)\n",
        "  #if i%50 ==0:\n",
        "\n",
        "  #print('AP@ : {0:.4f}'.format(ap))\n",
        "print('mAP {:.4f}'.format(mean(precision1_list)))"
      ],
      "execution_count": null,
      "outputs": [
        {
          "output_type": "stream",
          "text": [
            "Evaluation  mAP  . .  resnet18 extr\n"
          ],
          "name": "stdout"
        }
      ]
    }
  ]
}