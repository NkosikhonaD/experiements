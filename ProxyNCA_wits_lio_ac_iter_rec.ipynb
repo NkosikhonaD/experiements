{
  "nbformat": 4,
  "nbformat_minor": 0,
  "metadata": {
    "colab": {
      "name": "ProxyNCA_wits_lio_ac_iter_rec.ipynb",
      "provenance": [],
      "collapsed_sections": [],
      "include_colab_link": true
    },
    "kernelspec": {
      "name": "python3",
      "display_name": "Python 3"
    }
  },
  "cells": [
    {
      "cell_type": "markdown",
      "metadata": {
        "id": "view-in-github",
        "colab_type": "text"
      },
      "source": [
        "<a href=\"https://colab.research.google.com/github/NkosikhonaD/experiements/blob/master/ProxyNCA_wits_lio_ac_iter_rec.ipynb\" target=\"_parent\"><img src=\"https://colab.research.google.com/assets/colab-badge.svg\" alt=\"Open In Colab\"/></a>"
      ]
    },
    {
      "cell_type": "code",
      "metadata": {
        "colab": {
          "base_uri": "https://localhost:8080/"
        },
        "id": "it9j2_Y2tq1S",
        "outputId": "2334bcd0-5c0e-4e41-9129-887af7bc3b3d"
      },
      "source": [
        "!pip install pytorch-metric-learning\r\n",
        "!pip install faiss-gpu"
      ],
      "execution_count": null,
      "outputs": [
        {
          "output_type": "stream",
          "text": [
            "Requirement already satisfied: pytorch-metric-learning in /usr/local/lib/python3.6/dist-packages (0.9.96)\n",
            "Requirement already satisfied: tqdm in /usr/local/lib/python3.6/dist-packages (from pytorch-metric-learning) (4.41.1)\n",
            "Requirement already satisfied: scikit-learn in /usr/local/lib/python3.6/dist-packages (from pytorch-metric-learning) (0.22.2.post1)\n",
            "Requirement already satisfied: torch>=1.6.0 in /usr/local/lib/python3.6/dist-packages (from pytorch-metric-learning) (1.7.0+cu101)\n",
            "Requirement already satisfied: numpy in /usr/local/lib/python3.6/dist-packages (from pytorch-metric-learning) (1.19.5)\n",
            "Requirement already satisfied: torchvision in /usr/local/lib/python3.6/dist-packages (from pytorch-metric-learning) (0.8.1+cu101)\n",
            "Requirement already satisfied: joblib>=0.11 in /usr/local/lib/python3.6/dist-packages (from scikit-learn->pytorch-metric-learning) (1.0.0)\n",
            "Requirement already satisfied: scipy>=0.17.0 in /usr/local/lib/python3.6/dist-packages (from scikit-learn->pytorch-metric-learning) (1.4.1)\n",
            "Requirement already satisfied: dataclasses in /usr/local/lib/python3.6/dist-packages (from torch>=1.6.0->pytorch-metric-learning) (0.8)\n",
            "Requirement already satisfied: future in /usr/local/lib/python3.6/dist-packages (from torch>=1.6.0->pytorch-metric-learning) (0.16.0)\n",
            "Requirement already satisfied: typing-extensions in /usr/local/lib/python3.6/dist-packages (from torch>=1.6.0->pytorch-metric-learning) (3.7.4.3)\n",
            "Requirement already satisfied: pillow>=4.1.1 in /usr/local/lib/python3.6/dist-packages (from torchvision->pytorch-metric-learning) (7.0.0)\n",
            "Requirement already satisfied: faiss-gpu in /usr/local/lib/python3.6/dist-packages (1.7.0)\n"
          ],
          "name": "stdout"
        }
      ]
    },
    {
      "cell_type": "code",
      "metadata": {
        "id": "dySImkvKtrue"
      },
      "source": [
        "from pytorch_metric_learning import losses, miners, reducers, distances, testers\r\n",
        "from pytorch_metric_learning.utils.accuracy_calculator import AccuracyCalculator"
      ],
      "execution_count": null,
      "outputs": []
    },
    {
      "cell_type": "code",
      "metadata": {
        "id": "DodJjz5WRrx_"
      },
      "source": [
        "\n",
        "#------------------------------imports EmbeddingNet------------------#\n",
        "import torch \n",
        "import torch.nn as nn\n",
        "import torchvision.models as models\n",
        "from torch.optim import Adam\n",
        "import torchvision\n",
        "\n",
        "import numpy as np\n",
        "from numpy import mean\n",
        "import torchvision.transforms as transforms\n",
        "#------------------------------imports Sampler-----------------------#\n",
        "from torch.utils.data.sampler import Sampler\n",
        "from collections import defaultdict\n",
        "import random\n",
        "import torch.nn.functional as F\n",
        "\n",
        "#------------------------------imports Dataset-----------------------#\n",
        "from PIL import Image\n",
        "import PIL.ImageOps\n",
        "\n",
        "from torchvision.datasets import ImageFolder\n",
        "from torch.utils.data import DataLoader\n",
        "\n",
        "import torchvision.datasets as dset\n",
        "\n",
        "from torch.utils.data import Dataset\n",
        "\n",
        "import os\n",
        "import matplotlib.pyplot as plt\n",
        "import numpy as np\n"
      ],
      "execution_count": null,
      "outputs": []
    },
    {
      "cell_type": "code",
      "metadata": {
        "id": "fzyQOcofS2d6",
        "colab": {
          "base_uri": "https://localhost:8080/"
        },
        "outputId": "134761cb-1667-499b-e9f8-770ef1cb061f"
      },
      "source": [
        "from google.colab import drive\n",
        "drive.mount('/content/drive')"
      ],
      "execution_count": null,
      "outputs": [
        {
          "output_type": "stream",
          "text": [
            "Mounted at /content/drive\n"
          ],
          "name": "stdout"
        }
      ]
    },
    {
      "cell_type": "code",
      "metadata": {
        "id": "vNG6Epbm1RFM"
      },
      "source": [
        "def set_parameter_requires_grad(model,feature_extrating):\n",
        "  if feature_extrating:\n",
        "    for param in model.parameters():\n",
        "      param.requires_grad=False"
      ],
      "execution_count": null,
      "outputs": []
    },
    {
      "cell_type": "code",
      "metadata": {
        "id": "LOSDfy8dyGNX"
      },
      "source": [
        "def initialize_model(model_name,num_classes,feature_extrating,use_pretrained= True):\n",
        "  model_ft=None\n",
        "  if model_name==\"resnet18\":\n",
        "    model_ft= models.resnet18(pretrained=use_pretrained)\n",
        "    set_parameter_requires_grad(model_ft,feature_extrating)\n",
        "    num_ftrs = model_ft.fc.in_features\n",
        "    model_ft.fc = nn.Linear(num_ftrs,num_classes)\n",
        "\n",
        "  if model_name==\"resnet34\":\n",
        "    model_ft= models.resnet34(pretrained=use_pretrained)\n",
        "    set_parameter_requires_grad(model_ft,feature_extrating)\n",
        "    num_ftrs = model_ft.fc.in_features\n",
        "    model_ft.fc = nn.Linear(num_ftrs,num_classes)\n",
        "\n",
        "  if model_name==\"resnet50\":\n",
        "    model_ft= models.resnet50(pretrained=use_pretrained)\n",
        "    set_parameter_requires_grad(model_ft,feature_extrating)\n",
        "    num_ftrs = model_ft.fc.in_features\n",
        "    model_ft.fc = nn.Linear(num_ftrs,num_classes)\n",
        "  \n",
        "  if model_name==\"resnet101\":\n",
        "    model_ft= models.resnet101(pretrained=use_pretrained)\n",
        "    set_parameter_requires_grad(model_ft,feature_extrating)\n",
        "    num_ftrs = model_ft.fc.in_features\n",
        "    model_ft.fc = nn.Linear(num_ftrs,num_classes)\n",
        "    \n",
        "  if model_name==\"resnet152\":\n",
        "    model_ft= models.resnet152(pretrained=use_pretrained)\n",
        "    set_parameter_requires_grad(model_ft,feature_extrating)\n",
        "    num_ftrs = model_ft.fc.in_features\n",
        "    model_ft.fc = nn.Linear(num_ftrs,num_classes)\n",
        "  if model_name ==\"VGG19\":\n",
        "    model_ft= models.vgg19(pretrained=use_pretrained)\n",
        "    set_parameter_requires_grad(model_ft,feature_extrating)\n",
        "    num_ftrs= model_ft.classifier[6].in_features\n",
        "    model_ft.classifier[6] = nn.Linear(num_ftrs,num_classes)\n",
        "  if model_name ==\"VGG11\":\n",
        "    model_ft= models.vgg11(pretrained=use_pretrained)\n",
        "    set_parameter_requires_grad(model_ft,feature_extrating)\n",
        "    num_ftrs= model_ft.classifier[6].in_features\n",
        "    model_ft.classifier[6] = nn.Linear(num_ftrs,num_classes)\n",
        "  \n",
        "  if model_name ==\"densenet121\":\n",
        "    model_ft= models.densenet121(pretrained=use_pretrained)\n",
        "    set_parameter_requires_grad(model_ft,feature_extrating)\n",
        "    num_ftrs= model_ft.classifier.in_features\n",
        "    model_ft.classifier = nn.Linear(num_ftrs,num_classes)\n",
        "  if model_name ==\"densenet201\":\n",
        "    model_ft= models.densenet201(pretrained=use_pretrained)\n",
        "    set_parameter_requires_grad(model_ft,feature_extrating)\n",
        "    num_ftrs= model_ft.classifier.in_features\n",
        "    model_ft.classifier = nn.Linear(num_ftrs,num_classes)\n",
        "  return model_ft\n",
        "  \n",
        "  "
      ],
      "execution_count": null,
      "outputs": []
    },
    {
      "cell_type": "code",
      "metadata": {
        "id": "PsOwqii-b5r7"
      },
      "source": [
        ""
      ],
      "execution_count": null,
      "outputs": []
    },
    {
      "cell_type": "code",
      "metadata": {
        "id": "D5pH9uxOZ1Zf"
      },
      "source": [
        "class EmbeddingNet(nn.Module):\n",
        "  def __init__(self,model_name,num_classes,feature_extrating,use_pretrained):\n",
        "    super(EmbeddingNet,self).__init__()\n",
        "    self.backbone = model_name\n",
        "    if model_name is None:\n",
        "      #initialize_model(model_name,num_classes = 128,feature_extract,use_pretrained= True)\n",
        "      self.backbone = models.resnet18(num_classes=128)\n",
        "    else:\n",
        "        self.backbone =initialize_model(model_name,num_classes,feature_extrating,use_pretrained)\n",
        "    #self.backbone = backbone\n",
        "  def forward(self,x):\n",
        "    x=self.backbone(x)\n",
        "    x= nn.functional.normalize(x,dim=1)\n",
        "    return x\n"
      ],
      "execution_count": null,
      "outputs": []
    },
    {
      "cell_type": "code",
      "metadata": {
        "id": "NVinsN95iqLx"
      },
      "source": [
        "def show_plot_two(x_axis_array1,y_axis_array1,y_axis_array2,graph_1_lab=\"gr1\",graph_2_lab=\"gr2\",title=\"set title\",x_label=\"epoch\",y_label=\"loss\"):\n",
        "  \n",
        "  if len(x_axis_array1)!= len(y_axis_array1):\n",
        "    ly1 =min(len(x_axis_array1),len(y_axis_array1))\n",
        "    ly2 =min(len(x_axis_array1),len(y_axis_array2))\n",
        "    \n",
        "    plt.plot(x_axis_array1[:ly1],y_axis_array1[:ly1],label=graph_1_lab)\n",
        "    plt.plot(x_axis_array1[:ly2],y_axis_array2[:ly2],label=graph_2_lab)\n",
        "  else:\n",
        "    plt.plot(x_axis_array1,y_axis_array1,label=graph_1_lab)\n",
        "    plt.plot(x_axis_array1,y_axis_array2,label=graph_2_lab)\n",
        "\n",
        "  plt.xlabel(x_label)\n",
        "  plt.ylabel(y_label)   \n",
        "  plt.title(title)\n",
        "  plt.legend(loc='upper right')\n",
        "  plt.show()"
      ],
      "execution_count": null,
      "outputs": []
    },
    {
      "cell_type": "code",
      "metadata": {
        "id": "-ANJynxPSo2u"
      },
      "source": [
        "def show_plot(x_axis_array,y_axis_array, title=\"set title\",x_label=\"set_xlabes\",y_label=\"set_ylabels\"):\n",
        "  plt.plot(x_axis_array,y_axis_array)\n",
        "  plt.xlabel(x_label)\n",
        "  plt.ylabel(y_label)\n",
        "  plt.title(title)\n",
        "  plt.legend(loc='upper right')\n",
        "  plt.show()"
      ],
      "execution_count": null,
      "outputs": []
    },
    {
      "cell_type": "code",
      "metadata": {
        "id": "GR6xu2PnKaaW"
      },
      "source": [
        "class OnlineTripletDataset(Dataset):\n",
        "  def __init__(self,imageFolderDataset,transform=None,should_invert=True):\n",
        "    self.imageFolderDataset = imageFolderDataset\n",
        "    self.should_invert= should_invert\n",
        "    self.transform = transform\n",
        "    self.targets = [name[1] for name in self.imageFolderDataset.imgs]\n",
        "    self.targets = list(set(self.targets))\n",
        "    #self.targets = [img[1] for img in self.imageFolderDataset.imgs]\n",
        "  def __getitem__(self,index):\n",
        "    img0_tuple = random.choice(self.imageFolderDataset.imgs)\n",
        "    img0 = Image.open(img0_tuple[0])\n",
        "    target = img0_tuple[1]\n",
        "\n",
        "    if self.should_invert:\n",
        "      img0=PIL.ImageOps.invert(img0)\n",
        "    if self.transform is not None:\n",
        "      img0=self.transform(img0)\n",
        "    return img0, torch.from_numpy(np.array([int(target)],dtype=np.float32))\n",
        "  def __len__(self):\n",
        "    return (len(self.imageFolderDataset.imgs))\n"
      ],
      "execution_count": null,
      "outputs": []
    },
    {
      "cell_type": "code",
      "metadata": {
        "id": "dv75g9oX3BIH"
      },
      "source": [
        "accuracy_list = []\n",
        "embeds = []\n",
        "labels= []\n",
        "train_loss = []\n",
        "test_loss = []\n",
        "epoch_iterator = []\n",
        "test_iterator = []\n",
        "dists = None\n",
        "targets = None"
      ],
      "execution_count": null,
      "outputs": []
    },
    {
      "cell_type": "code",
      "metadata": {
        "id": "b2aqPmp_iPLy"
      },
      "source": [
        "def train_epoch(model,optimizer,loss_optimizer,criterion,data_loader,device,epoch,print_freq):\n",
        "  \n",
        "  model.train()\n",
        "  running_loss = 0;\n",
        "  running_frac_pos_triplets= 0\n",
        "  epoch_iterator.append(epoch)\n",
        "  for i, data in enumerate(data_loader):\n",
        "    optimizer.zero_grad()\n",
        "    samples, targets = data[0].to(device),data[1].to(device)\n",
        "    targets = torch.flatten(targets)\n",
        "    embeddings = model(samples)\n",
        "    #loss,frac_pos_triplets = criterion(embeddings,targets)\n",
        "    loss= criterion(embeddings,targets)\n",
        "    loss.backward()\n",
        "    optimizer.step()\n",
        "    loss_optimizer.step()\n",
        "    running_loss +=loss.item()\n",
        "\n",
        "    #running_frac_pos_triplets+=float(frac_pos_triplets)\n",
        "\n",
        "    if i%print_freq ==print_freq-1:\n",
        "      i+=1\n",
        "      avg_loss = running_loss/print_freq\n",
        "      train_loss.append(avg_loss)\n",
        "      \n",
        "      #avg_trip =100.0*running_frac_pos_triplets/print_freq\n",
        "      #print('[{:d}, {:d}] | loss: {:.4f} | % avg hard triplets: {:.2f}%'.format(epoch, i, avg_loss, avg_trip))\n",
        "      print('[{:d}, {:d}] | loss: {:.4f}'.format(epoch, i, avg_loss))\n",
        "      running_loss = 0\n",
        "      running_frac_pos_triplets = 0"
      ],
      "execution_count": null,
      "outputs": []
    },
    {
      "cell_type": "code",
      "metadata": {
        "id": "rWwUJ9IkcEmq"
      },
      "source": [
        "def imshow(img,text=None,should_save= False):\n",
        "  npimg = img.cpu().numpy()\n",
        "  plt.axis(\"off\")\n",
        "  if text:\n",
        "    plt.text(75,8,text,style='italic',fontweight='bold',bbox={'facecolor':'white','alpha':0.8,'pad':10})\n",
        "  plt.imshow(np.transpose(npimg,(1,2,0)))\n",
        "  plt.show()\n",
        "  "
      ],
      "execution_count": null,
      "outputs": []
    },
    {
      "cell_type": "code",
      "metadata": {
        "id": "5OO0cD7Of64A"
      },
      "source": [
        "def save(model,epoch,save_dir,file_name):\n",
        "  file_name = 'epoch_'+str(epoch)+'_'+file_name\n",
        "  save_path =os.path.join(save_dir,file_name)\n",
        "  torch.save(model.state_dict(),save_path)"
      ],
      "execution_count": null,
      "outputs": []
    },
    {
      "cell_type": "code",
      "metadata": {
        "id": "scWKE9nPGUTP",
        "colab": {
          "base_uri": "https://localhost:8080/"
        },
        "outputId": "e3285542-2eff-440e-dd15-c95a4c044713"
      },
      "source": [
        "\n",
        "folder_dataset_train = dset.ImageFolder(root=\"/content/drive/My Drive/Lion_Data/train\")\n",
        "#folder_dataset_test = dset.ImageFolder(root=\"/content/drive/My Drive/ColabNotebooks/DataProcessed/Nyla_Data/val\")\n",
        "\n",
        "train_dataset = OnlineTripletDataset(imageFolderDataset=folder_dataset_train,transform=transforms.Compose([transforms.Resize(128),transforms.CenterCrop(124),transforms.ToTensor()]),should_invert=False)\n",
        "#test_dataset= OnlineTripletDataset(imageFolderDataset=folder_dataset_test,transform=transforms.Compose([transforms.Resize(28),transforms.CenterCrop(124),transforms.ToTensor(),transforms.Normalize([0.485,0.456,0.406],[0.229,0.224,0.225])]),should_invert=False)\n",
        "  \n",
        "targets = train_dataset.targets\n",
        "\n",
        "train_dataloader = DataLoader(train_dataset,num_workers =4,batch_size=6)\n",
        "print(\"Total targets = \"+str(len(targets)))"
      ],
      "execution_count": null,
      "outputs": [
        {
          "output_type": "stream",
          "text": [
            "Total targets = 96\n"
          ],
          "name": "stdout"
        }
      ]
    },
    {
      "cell_type": "code",
      "metadata": {
        "id": "6GqhQ7-2_iPu",
        "colab": {
          "base_uri": "https://localhost:8080/"
        },
        "outputId": "0e3357dc-2f8e-4790-ffed-a42dc9040d64"
      },
      "source": [
        "folder_dataset_test = dset.ImageFolder(root=\"/content/drive/My Drive/Lion_Data/val\")\n",
        "#folder_dataset_test = dset.ImageFolder(root=\"/content/drive/My Drive/ColabNotebooks/DataProcessed/Lion_Data/val\")\n",
        "\n",
        "#train_dataset = OnlineTripletDataset(imageFolderDataset=folder_dataset_train,transform=transforms.Compose([transforms.Resize(28),transforms.CenterCrop(24),transforms.ToTensor()]),should_invert=False)\n",
        "test_dataset= OnlineTripletDataset(imageFolderDataset=folder_dataset_test,transform=transforms.Compose([transforms.Resize(128),transforms.CenterCrop(124),transforms.ToTensor(),transforms.Normalize([0.485,0.456,0.406],[0.229,0.224,0.225])]),should_invert=False)\n",
        "targets_test = test_dataset.targets\n",
        "print(\"targets test \",str(len(targets_test)))\n",
        "test_dataloader = DataLoader(test_dataset,num_workers=4,batch_size=6,shuffle=False) \n",
        "device = torch.device('cuda')"
      ],
      "execution_count": null,
      "outputs": [
        {
          "output_type": "stream",
          "text": [
            "targets test  94\n"
          ],
          "name": "stdout"
        }
      ]
    },
    {
      "cell_type": "code",
      "metadata": {
        "id": "B8C5bTgEoFbC",
        "colab": {
          "base_uri": "https://localhost:8080/"
        },
        "outputId": "6519da95-3e5c-4f43-8c47-c814f6d74d4e"
      },
      "source": [
        "backbone_name = [\"resnet18\",\"resnet34\",\"resnet50\",\"resnet101\",\"resnet152\",\"VGG19\",\"VGG11\",\"densenet121\",\"densenet201\"]\n",
        "feature_extract =True\n",
        "extract_or_fine_tune=[\"tune\",\"extr\"]\n",
        "dataset_used=\"Lion_Data\"\n",
        "backbone = backbone_name[8]\n",
        "saved_model=backbone+extract_or_fine_tune[feature_extract]+dataset_used+\".pt\"\n",
        "dim= [64,128,512]\n",
        "dim_embedd = dim[2]\n",
        "print(saved_model)"
      ],
      "execution_count": null,
      "outputs": [
        {
          "output_type": "stream",
          "text": [
            "densenet201extrLion_Data.pt\n"
          ],
          "name": "stdout"
        }
      ]
    },
    {
      "cell_type": "code",
      "metadata": {
        "id": "FJWCo5orvpvO"
      },
      "source": [
        "def get_all_embeddings(dataset,model):\r\n",
        "  tester = testers.BaseTester()\r\n",
        "  return tester.get_all_embeddings(dataset,model)"
      ],
      "execution_count": null,
      "outputs": []
    },
    {
      "cell_type": "code",
      "metadata": {
        "id": "y-HnHxbYvxHs"
      },
      "source": [
        "def test(test1_samples,test2_samples,model,accuracy_calculator):\r\n",
        "  test1_embeddings,test1_labels = get_all_embeddings(test1_samples,model)\r\n",
        "  test2_embeddings,test2_labels = get_all_embeddings(test2_samples,model)\r\n",
        "  accuracies = accuracy_calculator.get_accuracy(test1_embeddings,test2_embeddings,np.squeeze(test1_labels),np.squeeze(test2_labels),False)\r\n",
        "  print(\"Test accuracy (precision@1) = {}\".format(accuracies[\"precision_at_1\"]))\r\n",
        "  print(\"Test accuracy (mean average precision@R) = {}\".format(accuracies[\"mean_average_precision_at_r\"]))"
      ],
      "execution_count": null,
      "outputs": []
    },
    {
      "cell_type": "code",
      "metadata": {
        "id": "fmysnzus_ej7"
      },
      "source": [
        "\n",
        "def test_epoch(model,criterion,loss_optimizer,data_loader,device,epoch,print_freq):\n",
        "  model.eval()\n",
        "  model.to(device)\n",
        "  running_loss = 0;\n",
        "  running_frac_pos_triplets= 0\n",
        "  model_string = \"/content/drive/My Drive/Lion_Data/epoch_\"+str(epoch)+\"_\"+saved_model\n",
        "  model.load_state_dict(torch.load(model_string))\n",
        "  test_iterator.append(epoch)\n",
        "  for i, data in enumerate(data_loader):\n",
        "    samples, targets = data[0].to(device),data[1].to(device)\n",
        "    targets = torch.flatten(targets)\n",
        "    embeddings = model(samples) \n",
        "    loss_optimizer.step()\n",
        "    loss= criterion(embeddings,targets)\n",
        "    running_loss +=loss.item()\n",
        "    if i%print_freq ==print_freq-1:\n",
        "      i+=1\n",
        "      avg_loss = running_loss/print_freq\n",
        "      test_loss.append(avg_loss)\n",
        "      print('[{:d}, {:d}] | loss: {:.4f}'.format(epoch, i, avg_loss))\n",
        "      running_loss = 0\n",
        "      running_frac_pos_triplets = 0"
      ],
      "execution_count": null,
      "outputs": []
    },
    {
      "cell_type": "code",
      "metadata": {
        "id": "lGCKEVVg7RSk",
        "colab": {
          "base_uri": "https://localhost:8080/",
          "height": 1000
        },
        "outputId": "fb7c24d8-c950-417b-d9e4-d44f3eb3e42c"
      },
      "source": [
        "test_loss = []\n",
        "test_iterator = []\n",
        "\n",
        "def main():\n",
        "  feature_extract = True\n",
        "  device = torch.device('cuda:0')\n",
        "  model = EmbeddingNet(backbone,dim_embedd,feature_extract,True)\n",
        "  model.to(device)\n",
        "  params_to_update = model.parameters()\n",
        "  if feature_extract:\n",
        "    params_to_update= []\n",
        "    for name, param in model.named_parameters():\n",
        "      if param.requires_grad==True:\n",
        "        params_to_update.append(param)\n",
        "        print(\"\\t\",name)\n",
        "  else:\n",
        "    for name,param in model.named_parameters():\n",
        "      if param.requires_grad==True:\n",
        "        print(\"\\t\",name)\n",
        "  \n",
        "  print_freq = 60\n",
        "  #criterion = TripletMarginLoss(margin =0.1) # hyper parameter margin can be changed\n",
        "  criterion = losses.ProxyNCALoss(96,dim_embedd,softmax_scale=1)\n",
        "  optimizer = Adam(params_to_update,lr=0.0001)\n",
        "  loss_optimizer = Adam(criterion.parameters(),lr=0.0001)\n",
        "  for epoch in range(1,31):\n",
        "    print('Training...',backbone)\n",
        "    train_epoch(model,optimizer,loss_optimizer,criterion,train_dataloader,device,epoch,print_freq)\n",
        "    save(model,epoch,\"/content/drive/My Drive/Lion_Data/\",saved_model)\n",
        "  feature_extract = False \n",
        "  \n",
        "  model = EmbeddingNet(backbone,dim_embedd,feature_extract,True)\n",
        "\n",
        "  #criterion = TripletMarginLoss(margin =0.1)\n",
        "  criterion = losses.ProxyNCALoss(94,dim_embedd,softmax_scale=1)\n",
        "  print_freq = 30\n",
        "  for epoch in range(1,31):\n",
        "    print('Testing ... ',backbone)\n",
        "    test_epoch(model,criterion,loss_optimizer,test_dataloader,device,epoch,print_freq)    \n",
        "  show_plot_two(test_iterator,train_loss,test_loss,\"train\",\"validate\",\"Triplet loss\")\n",
        "if __name__ == '__main__':\n",
        "  main()"
      ],
      "execution_count": null,
      "outputs": [
        {
          "output_type": "stream",
          "text": [
            "\t backbone.classifier.weight\n",
            "\t backbone.classifier.bias\n",
            "Training... densenet201\n",
            "[1, 60] | loss: 4.5577\n",
            "Training... densenet201\n",
            "[2, 60] | loss: 4.4946\n",
            "Training... densenet201\n",
            "[3, 60] | loss: 4.4480\n",
            "Training... densenet201\n",
            "[4, 60] | loss: 4.3801\n",
            "Training... densenet201\n",
            "[5, 60] | loss: 4.3223\n",
            "Training... densenet201\n",
            "[6, 60] | loss: 4.2429\n",
            "Training... densenet201\n",
            "[7, 60] | loss: 4.2088\n",
            "Training... densenet201\n",
            "[8, 60] | loss: 4.1589\n",
            "Training... densenet201\n",
            "[9, 60] | loss: 4.1299\n",
            "Training... densenet201\n",
            "[10, 60] | loss: 4.0822\n",
            "Training... densenet201\n",
            "[11, 60] | loss: 4.0225\n",
            "Training... densenet201\n",
            "[12, 60] | loss: 3.9864\n",
            "Training... densenet201\n",
            "[13, 60] | loss: 3.9666\n",
            "Training... densenet201\n",
            "[14, 60] | loss: 3.9588\n",
            "Training... densenet201\n",
            "[15, 60] | loss: 3.9241\n",
            "Training... densenet201\n",
            "[16, 60] | loss: 3.8856\n",
            "Training... densenet201\n",
            "[17, 60] | loss: 3.8725\n",
            "Training... densenet201\n",
            "[18, 60] | loss: 3.8394\n",
            "Training... densenet201\n",
            "[19, 60] | loss: 3.8172\n",
            "Training... densenet201\n",
            "[20, 60] | loss: 3.7885\n",
            "Training... densenet201\n",
            "[21, 60] | loss: 3.7659\n",
            "Training... densenet201\n",
            "[22, 60] | loss: 3.7702\n",
            "Training... densenet201\n",
            "[23, 60] | loss: 3.7361\n",
            "Training... densenet201\n",
            "[24, 60] | loss: 3.7375\n",
            "Training... densenet201\n",
            "[25, 60] | loss: 3.7170\n",
            "Training... densenet201\n",
            "[26, 60] | loss: 3.6988\n",
            "Training... densenet201\n",
            "[27, 60] | loss: 3.6781\n",
            "Training... densenet201\n",
            "[28, 60] | loss: 3.6830\n",
            "Training... densenet201\n",
            "[29, 60] | loss: 3.6632\n",
            "Training... densenet201\n",
            "[30, 60] | loss: 3.6499\n",
            "Testing ...  densenet201\n",
            "[1, 30] | loss: 4.5554\n",
            "Testing ...  densenet201\n",
            "[2, 30] | loss: 4.5436\n",
            "Testing ...  densenet201\n",
            "[3, 30] | loss: 4.5445\n",
            "Testing ...  densenet201\n",
            "[4, 30] | loss: 4.5437\n",
            "Testing ...  densenet201\n",
            "[5, 30] | loss: 4.5503\n",
            "Testing ...  densenet201\n",
            "[6, 30] | loss: 4.5545\n",
            "Testing ...  densenet201\n",
            "[7, 30] | loss: 4.5508\n",
            "Testing ...  densenet201\n",
            "[8, 30] | loss: 4.5403\n",
            "Testing ...  densenet201\n",
            "[9, 30] | loss: 4.5466\n",
            "Testing ...  densenet201\n",
            "[10, 30] | loss: 4.5428\n",
            "Testing ...  densenet201\n",
            "[11, 30] | loss: 4.5355\n",
            "Testing ...  densenet201\n",
            "[12, 30] | loss: 4.5557\n",
            "Testing ...  densenet201\n",
            "[13, 30] | loss: 4.5556\n",
            "Testing ...  densenet201\n",
            "[14, 30] | loss: 4.5578\n",
            "Testing ...  densenet201\n",
            "[15, 30] | loss: 4.5330\n",
            "Testing ...  densenet201\n",
            "[16, 30] | loss: 4.5376\n",
            "Testing ...  densenet201\n",
            "[17, 30] | loss: 4.5306\n",
            "Testing ...  densenet201\n",
            "[18, 30] | loss: 4.5517\n",
            "Testing ...  densenet201\n",
            "[19, 30] | loss: 4.5397\n",
            "Testing ...  densenet201\n",
            "[20, 30] | loss: 4.5394\n",
            "Testing ...  densenet201\n",
            "[21, 30] | loss: 4.5328\n",
            "Testing ...  densenet201\n",
            "[22, 30] | loss: 4.5526\n",
            "Testing ...  densenet201\n",
            "[23, 30] | loss: 4.5564\n",
            "Testing ...  densenet201\n",
            "[24, 30] | loss: 4.5532\n",
            "Testing ...  densenet201\n",
            "[25, 30] | loss: 4.5421\n",
            "Testing ...  densenet201\n",
            "[26, 30] | loss: 4.5334\n",
            "Testing ...  densenet201\n",
            "[27, 30] | loss: 4.5411\n",
            "Testing ...  densenet201\n",
            "[28, 30] | loss: 4.5429\n",
            "Testing ...  densenet201\n",
            "[29, 30] | loss: 4.5398\n",
            "Testing ...  densenet201\n",
            "[30, 30] | loss: 4.5441\n"
          ],
          "name": "stdout"
        },
        {
          "output_type": "display_data",
          "data": {
            "image/png": "[encoded data removed]",
            "text/plain": [
              "<Figure size 432x288 with 1 Axes>"
            ]
          },
          "metadata": {
            "tags": [],
            "needs_background": "light"
          }
        }
      ]
    },
    {
      "cell_type": "code",
      "metadata": {
        "colab": {
          "base_uri": "https://localhost:8080/"
        },
        "id": "Qa1R_zUizfAk",
        "outputId": "5ede2ae8-06de-466d-b6ae-d93a5aead38e"
      },
      "source": [
        "print(\"Evaluating model\",backbone,\" extrator\")\r\n",
        "test_dataset1= OnlineTripletDataset(imageFolderDataset=folder_dataset_test,transform=transforms.Compose([transforms.Resize(128),transforms.CenterCrop(124),transforms.ToTensor(),transforms.Normalize([0.485,0.456,0.406],[0.229,0.224,0.225])]),should_invert=False)\r\n",
        "test_dataset2= OnlineTripletDataset(imageFolderDataset=folder_dataset_test,transform=transforms.Compose([transforms.Resize(128),transforms.CenterCrop(124),transforms.ToTensor(),transforms.Normalize([0.485,0.456,0.406],[0.229,0.224,0.225])]),should_invert=False)\r\n",
        "\r\n",
        "accuracy_calculator = AccuracyCalculator(include = (\"precision_at_1\",\"mean_average_precision_at_r\",),k=1)\r\n",
        "model = EmbeddingNet(backbone,dim_embedd,False,True)\r\n",
        "model.to(device)\r\n",
        "model_string = \"/content/drive/My Drive/Lion_Data/epoch_\"+str(30)+\"_\"+saved_model\r\n",
        "model.load_state_dict(torch.load(model_string))\r\n",
        "test(test_dataset1,test_dataset2,model,accuracy_calculator)"
      ],
      "execution_count": null,
      "outputs": [
        {
          "output_type": "stream",
          "text": [
            "Evaluating model densenet201  extrator\n"
          ],
          "name": "stdout"
        },
        {
          "output_type": "stream",
          "text": [
            "100%|██████████| 6/6 [00:02<00:00,  2.34it/s]\n",
            "100%|██████████| 6/6 [00:02<00:00,  2.38it/s]"
          ],
          "name": "stderr"
        },
        {
          "output_type": "stream",
          "text": [
            "Test accuracy (precision@1) = 0.727810650887574\n",
            "Test accuracy (mean average precision@R) = 0.727810650887574\n"
          ],
          "name": "stdout"
        },
        {
          "output_type": "stream",
          "text": [
            "\n"
          ],
          "name": "stderr"
        }
      ]
    },
    {
      "cell_type": "code",
      "metadata": {
        "id": "ZXVYlYv6Q6Cu",
        "colab": {
          "base_uri": "https://localhost:8080/",
          "height": 72
        },
        "outputId": "ff94e726-2c7e-4693-88e7-5cb6f54149b0"
      },
      "source": [
        "print('Evaluating..',backbone)\n",
        "#http://queirozf.com/entries/evaluation-metrics-for-ranking-problems-introduction-and-examples\n",
        "#https://ils.unc.edu/courses/2013_spring/inls509_001/lectures/10-EvaluationMetrics.pdf\n",
        "test_dataloader2 = DataLoader(test_dataset,num_workers=4,batch_size=1,shuffle=False)\n",
        "model = EmbeddingNet(backbone,dim_embedd,False,True)\n",
        "model.eval()\n",
        "model.to(device)\n",
        "accuracy_list = []\n",
        "recall1_list = []\n",
        "precision1_list = []\n",
        "\n",
        "recall2_list = []\n",
        "precision2_list = []\n",
        "\n",
        "for i in range(1,30):\n",
        "  accuracy = 0\n",
        "  total = 0\n",
        "  true_positive = 0\n",
        "  true_negative = 0\n",
        "  false_positive=0\n",
        "  false_negative =0\n",
        "\n",
        "  data_iter = iter(test_dataloader2)\n",
        "\n",
        "  img0,target0 =next(data_iter)\n",
        "  img0 = img0.to(device)\n",
        "  target0 = target0.to(device)\n",
        "  #print(target0.item())\n",
        "  model_string = \"/content/drive/My Drive/Lion_Data/epoch_\"+str(30)+\"_\"+saved_model\n",
        "  model.load_state_dict(torch.load(model_string))\n",
        "  precision_c1 = 0.0\n",
        "  recall_c1 = 0.0\n",
        "\n",
        "  precision_c2 = 0.0\n",
        "  recall_c2 = 0.0\n",
        "  for i,data in enumerate(test_dataloader2):\n",
        "    img1,target1 =data[0].to(device),data[1].to(device)\n",
        "    embed0= model(img0)\n",
        "    embed1= model(img1)\n",
        "    contactenated = torch.cat((img0,img1),0)\n",
        "    dist =  F.pairwise_distance(embed0,embed1)\n",
        "    if target1.item() == target0.item():\n",
        "      \n",
        "      if dist<0.002:\n",
        "        true_positive+=1\n",
        "        total+=1\n",
        "      else:\n",
        "        false_positive+=1\n",
        "        total+=1\n",
        "    else:\n",
        "        if dist>=0.002:\n",
        "          true_negative+=1\n",
        "          total+=1\n",
        "        else:\n",
        "          false_negative+=1\n",
        "          total+=1\n",
        "  acc = (true_positive+true_negative)/total\n",
        "  accuracy_list.append(acc)\n",
        "  if true_positive !=0: \n",
        "    recall_c1 = true_positive /(true_positive+false_negative) \n",
        "    recall1_list.append(recall_c1)\n",
        "    precision_c1 =true_positive/(true_positive+false_positive)\n",
        "    precision1_list.append(precision_c1)\n",
        "  if true_negative!=0:\n",
        "    precision_c2 = true_negative/(true_negative+false_positive)\n",
        "    precision2_list.append(precision_c2)\n",
        "    recall_c2 = true_negative/(true_negative+false_negative)\n",
        "    recall2_list.append(recall_c2)\n",
        "\n",
        "print('Accuracy: {0:.1f}, Recall: {1:.1f} Precision: {2:.1f}'.format(mean(accuracy_list),mean(recall1_list),mean(precision1_list)))\n",
        "print('Accuracy: {0:.1f}, Recall: {1:.1f} Precision: {2:.1f}'.format(mean(accuracy_list),mean(recall2_list),mean(precision2_list)))"
      ],
      "execution_count": null,
      "outputs": [
        {
          "output_type": "stream",
          "text": [
            "Evaluating.. resnet18\n",
            "Accuracy: 1.0, Recall: 1.0 Precision: 0.6\n",
            "Accuracy: 1.0, Recall: 1.0 Precision: 1.0\n"
          ],
          "name": "stdout"
        }
      ]
    },
    {
      "cell_type": "code",
      "metadata": {
        "id": "9mct961CxL_y"
      },
      "source": [
        "def plot_dists(y_points1,y_points2,color1=\"blue\",color2=\"orange\"):\n",
        "  list_size = len(y_points1)\n",
        "\n",
        "  plt.scatter(y_points1,y_points1,c=color1,s=5,label=\"same label\")\n",
        "  #list_size = len(y_points2)\n",
        "  #x_list = np.arange(0,list_size,1)\n",
        "  new_list = y_points2[:list_size]\n",
        "  plt.scatter(new_list,new_list,c=color2,s=5,label =\"different label\")\n",
        "  plt.xlabel('distances range')\n",
        "  plt.ylabel('distances')\n",
        "\n",
        "  plt.legend(loc='upper left')\n",
        "  plt.show()\n"
      ],
      "execution_count": null,
      "outputs": []
    },
    {
      "cell_type": "code",
      "metadata": {
        "id": "siuoXDTrQxow"
      },
      "source": [
        "def plot_dists_all(y_points1,y_points2,color1=\"blue\",color2=\"orange\"):\n",
        "\n",
        "  list_size = len(y_points1)\n",
        "  x_list = np.linspace(0,30,num=list_size)\n",
        "  plt.scatter(x_list,y_points1,c=color1,s=5,label=\"same label\")\n",
        "  list_size = len(y_points2)\n",
        "  x_list = np.linspace(0,30,num=list_size)\n",
        "  plt.scatter(x_list,y_points2,c=color2,s=5,label=\"different label\")\n",
        "  #plt.xlim(0.01,0.008)\n",
        "  plt.xlabel('Batch')\n",
        "  plt.ylabel('distances')\n",
        "\n",
        "  plt.legend(loc='upper left')\n",
        "  plt.show()"
      ],
      "execution_count": null,
      "outputs": []
    },
    {
      "cell_type": "code",
      "metadata": {
        "id": "45GUHJLc2F1P",
        "colab": {
          "base_uri": "https://localhost:8080/",
          "height": 297
        },
        "outputId": "14a465f1-a704-4da0-d9d0-1c210cdb33bd"
      },
      "source": [
        "print('Plotting dists',backbone)\n",
        "#http://queirozf.com/entries/evaluation-metrics-for-ranking-problems-introduction-and-examples\n",
        "#https://ils.unc.edu/courses/2013_spring/inls509_001/lectures/10-EvaluationMetrics.pdf\n",
        "test_dataloader2 = DataLoader(test_dataset,num_workers=4,batch_size=1,shuffle=False)\n",
        "model = EmbeddingNet(backbone,128,False,True)\n",
        "model.eval()\n",
        "model.to(device)\n",
        "model_string = \"/content/drive/My Drive/Lion_Data/epoch_\"+str(30)+\"_\"+saved_model\n",
        "#model_string = \"/content/drive/My Drive/Lion_Data/epoch_30_extractres152lion.pt\"\n",
        "model.load_state_dict(torch.load(model_string))\n",
        "accuracy_list = []\n",
        "recall1_list = []\n",
        "precision1_list = []\n",
        "\n",
        "recall2_list = []\n",
        "precision2_list = []\n",
        "\n",
        "same_class_dists=[]\n",
        "diff_class_dists=[]\n",
        "\n",
        "same_class_dists_av=[]\n",
        "diff_class_dists_av=[]\n",
        "data_iter = iter(test_dataloader2)\n",
        "for j in range(1,100):  \n",
        "  img0,target0 =next(data_iter)\n",
        "  img0 = img0.to(device)\n",
        "  target0 = target0.to(device)\n",
        "  embed0= model(img0)\n",
        "  for i,data in enumerate(test_dataloader2):\n",
        "    img1,target1 =data[0].to(device),data[1].to(device)\n",
        "    embed1= model(img1)\n",
        "    dist =  F.pairwise_distance(embed0,embed1)\n",
        "    dist_a = round(dist.item(),4)\n",
        "    if target1.item() == target0.item():\n",
        "      same_class_dists.append(dist_a)\n",
        "      if(j %5 == 0):\n",
        "        same_class_dists_av.append(np.mean(same_class_dists))\n",
        "        same_class_dists = []\n",
        "    else:\n",
        "      diff_class_dists.append(dist_a)\n",
        "      if j%5 == 0 :\n",
        "        diff_class_dists_av.append(np.mean(diff_class_dists))\n",
        "        diff_class_dists = []\n",
        "plot_dists(same_class_dists_av,diff_class_dists_av)\n",
        "  "
      ],
      "execution_count": null,
      "outputs": [
        {
          "output_type": "stream",
          "text": [
            "Plotting dists resnet18\n"
          ],
          "name": "stdout"
        },
        {
          "output_type": "display_data",
          "data": {
            "image/png": "[encoded data removed]",
            "text/plain": [
              "<Figure size 432x288 with 1 Axes>"
            ]
          },
          "metadata": {
            "tags": [],
            "needs_background": "light"
          }
        }
      ]
    },
    {
      "cell_type": "code",
      "metadata": {
        "id": "JxsYSuUKPbZp",
        "colab": {
          "base_uri": "https://localhost:8080/",
          "height": 279
        },
        "outputId": "8ff67248-238c-4f2a-a97a-3de8415c83f4"
      },
      "source": [
        "plot_dists(same_class_dists_av,diff_class_dists_av)"
      ],
      "execution_count": null,
      "outputs": [
        {
          "output_type": "display_data",
          "data": {
            "image/png": "[encoded data removed]",
            "text/plain": [
              "<Figure size 432x288 with 1 Axes>"
            ]
          },
          "metadata": {
            "tags": [],
            "needs_background": "light"
          }
        }
      ]
    },
    {
      "cell_type": "code",
      "metadata": {
        "id": "9KyJfVT2RIek",
        "colab": {
          "base_uri": "https://localhost:8080/",
          "height": 279
        },
        "outputId": "3ef20fbe-2623-4625-b3ff-0b7d8b1056ab"
      },
      "source": [
        "\n",
        "plot_dists_all(same_class_dists_av,diff_class_dists_av)"
      ],
      "execution_count": null,
      "outputs": [
        {
          "output_type": "display_data",
          "data": {
            "image/png": "[encoded data removed]",
            "text/plain": [
              "<Figure size 432x288 with 1 Axes>"
            ]
          },
          "metadata": {
            "tags": [],
            "needs_background": "light"
          }
        }
      ]
    },
    {
      "cell_type": "code",
      "metadata": {
        "id": "HuKK5sgUyLdE"
      },
      "source": [
        "#plot_dists_all(same_class_dists_av,diff_class_dists_av)\n",
        "print('Mean distance between images in same class {:.4f}'.format(np.mean(same_class_dists_av)))\n",
        "print('Mean distance between images in different class {:.4f}'.format(np.mean(diff_class_dists_av)))\n"
      ],
      "execution_count": null,
      "outputs": []
    },
    {
      "cell_type": "code",
      "metadata": {
        "id": "DgyZjEEHyL1H"
      },
      "source": [
        "print('Evaluation  mAP model',backbone)\n",
        "#http://queirozf.com/entries/evaluation-metrics-for-ranking-problems-introduction-and-examples\n",
        "#https://ils.unc.edu/courses/2013_spring/inls509_001/lectures/10-EvaluationMetrics.pdf\n",
        "test_dataloader2 = DataLoader(test_dataset,num_workers=4,batch_size=1,shuffle=False)\n",
        "model = EmbeddingNet(backbone,128,False,True)\n",
        "model.eval()\n",
        "model.to(device)\n",
        "accuracy_list = []\n",
        "recall1_list = []\n",
        "precision1_list = []\n",
        "\n",
        "relevant_items1 = 0\n",
        "relevant_items2 = 0\n",
        "recall2_list = []\n",
        "precision2_list = []\n",
        "#model_string = \"/content/drive/My Drive/Lion_Data/epoch_\"+str(30)+\"_\"+saved_model\n",
        "model_string = \"/content/drive/My Drive/Lion_Data/epoch_30_tuneres18lion.pt\"\n",
        "model.load_state_dict(torch.load(model_string))\n",
        "\n",
        "mean_average_prec = []\n",
        "data_iter = iter(test_dataloader2)\n",
        "for i in range(1,100):\n",
        "  dist_class = []\n",
        "  img0,target0 =next(data_iter)\n",
        "  img0 = img0.to(device)\n",
        "  target0 = target0.to(device)\n",
        "  for d,data in enumerate(test_dataloader2):\n",
        "    img1,target1 =data[0].to(device),data[1].to(device)\n",
        "    embed0= model(img0)\n",
        "    embed1= model(img1)\n",
        "    #contactenated = torch.cat((img0,img1),0)\n",
        "    dist =  F.pairwise_distance(embed0,embed1)\n",
        "    dist_r = round(dist.item(),4)\n",
        "    if target1.item() == target0.item():\n",
        "      relevant_items1=relevant_items1 + 1\n",
        "      t = (dist_r,0)\n",
        "      dist_class.append(t)\n",
        "    else:\n",
        "      relevant_items2=relevant_items2+1\n",
        "      t = (dist_r,1)\n",
        "      dist_class.append(t)\n",
        "  dist_class.sort(key = lambda x: x[0])\n",
        "  true_positive_class1 = 0\n",
        "  false_positive_class1 = 0\n",
        "  \n",
        "  true_negative_class1 = 0\n",
        "  false_negative_class1 = 0\n",
        "  total = 0\n",
        "  predicted_positive = 0\n",
        "  p = 0\n",
        "  for data in dist_class:\n",
        "    distance,class_ind = data[0],data[1]\n",
        "    if class_ind==0:\n",
        "      total= total+1\n",
        "      if distance<0.002:\n",
        "        true_positive_class1=true_positive_class1+1\n",
        "        predicted_positive=predicted_positive+1\n",
        "        p = p+(true_positive_class1/total)\n",
        "  \n",
        "  ap =0\n",
        "  if  predicted_positive>0:\n",
        "    ap= p/predicted_positive\n",
        "  precision1_list.append(ap)\n",
        "  #if i%50 ==0:\n",
        "\n",
        "  #print('AP@ : {0:.4f}'.format(ap))\n",
        "print('mAP {:.4f}'.format(mean(precision1_list)))"
      ],
      "execution_count": null,
      "outputs": []
    }
  ]
}