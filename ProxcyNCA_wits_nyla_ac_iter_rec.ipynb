{
  "nbformat": 4,
  "nbformat_minor": 0,
  "metadata": {
    "colab": {
      "name": "ProxcyNCA_wits_nyla_ac_iter_rec.ipynb",
      "provenance": [],
      "collapsed_sections": [],
      "include_colab_link": true
    },
    "kernelspec": {
      "name": "python3",
      "display_name": "Python 3"
    },
    "accelerator": "GPU"
  },
  "cells": [
    {
      "cell_type": "markdown",
      "metadata": {
        "id": "view-in-github",
        "colab_type": "text"
      },
      "source": [
        "<a href=\"https://colab.research.google.com/github/NkosikhonaD/experiements/blob/master/ProxcyNCA_wits_nyla_ac_iter_rec.ipynb\" target=\"_parent\"><img src=\"https://colab.research.google.com/assets/colab-badge.svg\" alt=\"Open In Colab\"/></a>"
      ]
    },
    {
      "cell_type": "code",
      "metadata": {
        "colab": {
          "base_uri": "https://localhost:8080/"
        },
        "id": "hSo2iu6C3BD7",
        "outputId": "23276ec5-17a3-4ca0-f846-39d2821f5d40"
      },
      "source": [
        "!pip install pytorch-metric-learning\r\n",
        "!pip install faiss-gpu"
      ],
      "execution_count": null,
      "outputs": [
        {
          "output_type": "stream",
          "text": [
            "Collecting pytorch-metric-learning\n",
            "\u001b[?25l  Downloading https://files.pythonhosted.org/packages/0a/f3/37c24b400f50dd639ced6797f6453aa7c22251311ab3ef32ee7251c3568c/pytorch_metric_learning-0.9.96-py3-none-any.whl (98kB)\n",
            "\r\u001b[K     |███▎                            | 10kB 21.8MB/s eta 0:00:01\r\u001b[K     |██████▋                         | 20kB 28.5MB/s eta 0:00:01\r\u001b[K     |██████████                      | 30kB 27.4MB/s eta 0:00:01\r\u001b[K     |█████████████▎                  | 40kB 23.4MB/s eta 0:00:01\r\u001b[K     |████████████████▋               | 51kB 24.8MB/s eta 0:00:01\r\u001b[K     |████████████████████            | 61kB 17.3MB/s eta 0:00:01\r\u001b[K     |███████████████████████▏        | 71kB 17.6MB/s eta 0:00:01\r\u001b[K     |██████████████████████████▌     | 81kB 18.0MB/s eta 0:00:01\r\u001b[K     |█████████████████████████████▉  | 92kB 15.5MB/s eta 0:00:01\r\u001b[K     |████████████████████████████████| 102kB 8.6MB/s \n",
            "\u001b[?25hRequirement already satisfied: scikit-learn in /usr/local/lib/python3.6/dist-packages (from pytorch-metric-learning) (0.22.2.post1)\n",
            "Requirement already satisfied: numpy in /usr/local/lib/python3.6/dist-packages (from pytorch-metric-learning) (1.19.5)\n",
            "Requirement already satisfied: torchvision in /usr/local/lib/python3.6/dist-packages (from pytorch-metric-learning) (0.8.1+cu101)\n",
            "Requirement already satisfied: tqdm in /usr/local/lib/python3.6/dist-packages (from pytorch-metric-learning) (4.41.1)\n",
            "Requirement already satisfied: torch>=1.6.0 in /usr/local/lib/python3.6/dist-packages (from pytorch-metric-learning) (1.7.0+cu101)\n",
            "Requirement already satisfied: scipy>=0.17.0 in /usr/local/lib/python3.6/dist-packages (from scikit-learn->pytorch-metric-learning) (1.4.1)\n",
            "Requirement already satisfied: joblib>=0.11 in /usr/local/lib/python3.6/dist-packages (from scikit-learn->pytorch-metric-learning) (1.0.0)\n",
            "Requirement already satisfied: pillow>=4.1.1 in /usr/local/lib/python3.6/dist-packages (from torchvision->pytorch-metric-learning) (7.0.0)\n",
            "Requirement already satisfied: dataclasses in /usr/local/lib/python3.6/dist-packages (from torch>=1.6.0->pytorch-metric-learning) (0.8)\n",
            "Requirement already satisfied: typing-extensions in /usr/local/lib/python3.6/dist-packages (from torch>=1.6.0->pytorch-metric-learning) (3.7.4.3)\n",
            "Requirement already satisfied: future in /usr/local/lib/python3.6/dist-packages (from torch>=1.6.0->pytorch-metric-learning) (0.16.0)\n",
            "Installing collected packages: pytorch-metric-learning\n",
            "Successfully installed pytorch-metric-learning-0.9.96\n",
            "Collecting faiss-gpu\n",
            "\u001b[?25l  Downloading https://files.pythonhosted.org/packages/3d/e2/5f90aad74c1bb64279020fbe6d6ca23b6d1ba1fdcce81329f441ee819d59/faiss_gpu-1.7.0-cp36-cp36m-manylinux2014_x86_64.whl (89.4MB)\n",
            "\u001b[K     |████████████████████████████████| 89.4MB 34kB/s \n",
            "\u001b[?25hInstalling collected packages: faiss-gpu\n",
            "Successfully installed faiss-gpu-1.7.0\n"
          ],
          "name": "stdout"
        }
      ]
    },
    {
      "cell_type": "code",
      "metadata": {
        "id": "vJcLGJOi3GH6"
      },
      "source": [
        "from pytorch_metric_learning import losses, miners, reducers, distances, testers\r\n",
        "from pytorch_metric_learning.utils.accuracy_calculator import AccuracyCalculator"
      ],
      "execution_count": null,
      "outputs": []
    },
    {
      "cell_type": "code",
      "metadata": {
        "id": "DodJjz5WRrx_"
      },
      "source": [
        "# READ easy positive\n",
        "# https://www.groundai.com/project/improved-embeddings-with-easy-positive-triplet-mining/1\n",
        "\n",
        "#------------------------------imports EmbeddingNet------------------#\n",
        "import torch \n",
        "import torch.nn as nn\n",
        "import torchvision.models as models\n",
        "from torch.optim import Adam\n",
        "import torchvision\n",
        "\n",
        "import numpy as np\n",
        "from numpy import mean\n",
        "import torchvision.transforms as transforms\n",
        "#------------------------------imports Sampler-----------------------#\n",
        "from torch.utils.data.sampler import Sampler\n",
        "from collections import defaultdict\n",
        "import random\n",
        "import torch.nn.functional as F\n",
        "\n",
        "#------------------------------imports Dataset-----------------------#\n",
        "from PIL import Image\n",
        "import PIL.ImageOps\n",
        "\n",
        "from torchvision.datasets import ImageFolder\n",
        "from torch.utils.data import DataLoader\n",
        "\n",
        "import torchvision.datasets as dset\n",
        "\n",
        "from torch.utils.data import Dataset\n",
        "\n",
        "import os\n",
        "import matplotlib.pyplot as plt\n",
        "import numpy as np\n"
      ],
      "execution_count": null,
      "outputs": []
    },
    {
      "cell_type": "code",
      "metadata": {
        "id": "fzyQOcofS2d6",
        "colab": {
          "base_uri": "https://localhost:8080/"
        },
        "outputId": "2dc28688-4ee3-4e69-f044-bdd2e7b6bfff"
      },
      "source": [
        "from google.colab import drive\n",
        "drive.mount('/content/drive')"
      ],
      "execution_count": null,
      "outputs": [
        {
          "output_type": "stream",
          "text": [
            "Mounted at /content/drive\n"
          ],
          "name": "stdout"
        }
      ]
    },
    {
      "cell_type": "code",
      "metadata": {
        "id": "vNG6Epbm1RFM"
      },
      "source": [
        "def set_parameter_requires_grad(model,feature_extrating):\n",
        "  if feature_extrating:\n",
        "    for param in model.parameters():\n",
        "      param.requires_grad=False"
      ],
      "execution_count": null,
      "outputs": []
    },
    {
      "cell_type": "code",
      "metadata": {
        "id": "LOSDfy8dyGNX"
      },
      "source": [
        "def initialize_model(model_name,num_classes,feature_extrating,use_pretrained= True):\n",
        "  model_ft=None\n",
        "  if model_name==\"resnet18\":\n",
        "    model_ft= models.resnet18(pretrained=use_pretrained)\n",
        "    set_parameter_requires_grad(model_ft,feature_extrating)\n",
        "    num_ftrs = model_ft.fc.in_features\n",
        "    model_ft.fc = nn.Linear(num_ftrs,num_classes)\n",
        "\n",
        "  if model_name==\"resnet34\":\n",
        "    model_ft= models.resnet34(pretrained=use_pretrained)\n",
        "    set_parameter_requires_grad(model_ft,feature_extrating)\n",
        "    num_ftrs = model_ft.fc.in_features\n",
        "    model_ft.fc = nn.Linear(num_ftrs,num_classes)\n",
        "\n",
        "  if model_name==\"resnet50\":\n",
        "    model_ft= models.resnet50(pretrained=use_pretrained)\n",
        "    set_parameter_requires_grad(model_ft,feature_extrating)\n",
        "    num_ftrs = model_ft.fc.in_features\n",
        "    model_ft.fc = nn.Linear(num_ftrs,num_classes)\n",
        "  \n",
        "  if model_name==\"resnet101\":\n",
        "    model_ft= models.resnet101(pretrained=use_pretrained)\n",
        "    set_parameter_requires_grad(model_ft,feature_extrating)\n",
        "    num_ftrs = model_ft.fc.in_features\n",
        "    model_ft.fc = nn.Linear(num_ftrs,num_classes)\n",
        "    \n",
        "  if model_name==\"resnet152\":\n",
        "    model_ft= models.resnet152(pretrained=use_pretrained)\n",
        "    set_parameter_requires_grad(model_ft,feature_extrating)\n",
        "    num_ftrs = model_ft.fc.in_features\n",
        "    model_ft.fc = nn.Linear(num_ftrs,num_classes)\n",
        "  if model_name ==\"VGG19\":\n",
        "    model_ft= models.vgg19(pretrained=use_pretrained)\n",
        "    set_parameter_requires_grad(model_ft,feature_extrating)\n",
        "    num_ftrs= model_ft.classifier[6].in_features\n",
        "    model_ft.classifier[6] = nn.Linear(num_ftrs,num_classes)\n",
        "  if model_name ==\"VGG11\":\n",
        "    model_ft= models.vgg11(pretrained=use_pretrained)\n",
        "    set_parameter_requires_grad(model_ft,feature_extrating)\n",
        "    num_ftrs= model_ft.classifier[6].in_features\n",
        "    model_ft.classifier[6] = nn.Linear(num_ftrs,num_classes)\n",
        "  \n",
        "  if model_name ==\"densenet121\":\n",
        "    model_ft= models.densenet121(pretrained=use_pretrained)\n",
        "    set_parameter_requires_grad(model_ft,feature_extrating)\n",
        "    num_ftrs= model_ft.classifier.in_features\n",
        "    model_ft.classifier = nn.Linear(num_ftrs,num_classes)\n",
        "  if model_name ==\"densenet201\":\n",
        "    model_ft= models.densenet201(pretrained=use_pretrained)\n",
        "    set_parameter_requires_grad(model_ft,feature_extrating)\n",
        "    num_ftrs= model_ft.classifier.in_features\n",
        "    model_ft.classifier = nn.Linear(num_ftrs,num_classes)\n",
        "  return model_ft\n",
        "  \n",
        "  "
      ],
      "execution_count": null,
      "outputs": []
    },
    {
      "cell_type": "code",
      "metadata": {
        "id": "D5pH9uxOZ1Zf"
      },
      "source": [
        "class EmbeddingNet(nn.Module):\n",
        "  def __init__(self,model_name,num_classes,feature_extrating,use_pretrained):\n",
        "    super(EmbeddingNet,self).__init__()\n",
        "    self.backbone = model_name\n",
        "    if model_name is None:\n",
        "      #initialize_model(model_name,num_classes = 128,feature_extract,use_pretrained= True)\n",
        "      self.backbone = models.resnet18(num_classes=128)\n",
        "    else:\n",
        "        self.backbone =initialize_model(model_name,num_classes,feature_extrating,use_pretrained)\n",
        "    #self.backbone = backbone\n",
        "  def forward(self,x):\n",
        "    x=self.backbone(x)\n",
        "    x= nn.functional.normalize(x,dim=1)\n",
        "    return x\n"
      ],
      "execution_count": null,
      "outputs": []
    },
    {
      "cell_type": "code",
      "metadata": {
        "id": "NVinsN95iqLx"
      },
      "source": [
        "def show_plot_two(x_axis_array1,y_axis_array1,y_axis_array2,graph_1_lab=\"gr1\",graph_2_lab=\"gr2\",title=\"set title\",x_label=\"epoch\",y_label=\"loss\"):\n",
        "  \n",
        "  if len(x_axis_array1)!= len(y_axis_array1):\n",
        "    ly1 =min(len(x_axis_array1),len(y_axis_array1))\n",
        "    ly2 =min(len(x_axis_array1),len(y_axis_array2))\n",
        "    \n",
        "    plt.plot(x_axis_array1[:ly1],y_axis_array1[:ly1],label=graph_1_lab)\n",
        "    plt.plot(x_axis_array1[:ly2],y_axis_array2[:ly2],label=graph_2_lab)\n",
        "  else:\n",
        "    plt.plot(x_axis_array1,y_axis_array1,label=graph_1_lab)\n",
        "    plt.plot(x_axis_array1,y_axis_array2,label=graph_2_lab)\n",
        "\n",
        "  plt.xlabel(x_label)\n",
        "  plt.ylabel(y_label)   \n",
        "  plt.title(title)\n",
        "  plt.legend(loc='upper right')\n",
        "  plt.show()"
      ],
      "execution_count": null,
      "outputs": []
    },
    {
      "cell_type": "code",
      "metadata": {
        "id": "-ANJynxPSo2u"
      },
      "source": [
        "def show_plot(x_axis_array,y_axis_array, title=\"set title\",x_label=\"set_xlabes\",y_label=\"set_ylabels\"):\n",
        "  plt.plot(x_axis_array,y_axis_array)\n",
        "  plt.xlabel(x_label)\n",
        "  plt.ylabel(y_label)\n",
        "  plt.title(title)\n",
        "  plt.legend(loc='upper right')\n",
        "  plt.show()"
      ],
      "execution_count": null,
      "outputs": []
    },
    {
      "cell_type": "code",
      "metadata": {
        "id": "GR6xu2PnKaaW"
      },
      "source": [
        "class OnlineTripletDataset(Dataset):\n",
        "  def __init__(self,imageFolderDataset,transform=None,should_invert=True):\n",
        "    self.imageFolderDataset = imageFolderDataset\n",
        "    self.should_invert= should_invert\n",
        "    self.transform = transform\n",
        "    self.targets = [name[1] for name in self.imageFolderDataset.imgs]\n",
        "    self.targets = list(set(self.targets))\n",
        "    #self.targets = [img[1] for img in self.imageFolderDataset.imgs]\n",
        "  def __getitem__(self,index):\n",
        "    img0_tuple = random.choice(self.imageFolderDataset.imgs)\n",
        "    img0 = Image.open(img0_tuple[0])\n",
        "    target = img0_tuple[1]\n",
        "\n",
        "    if self.should_invert:\n",
        "      img0=PIL.ImageOps.invert(img0)\n",
        "    if self.transform is not None:\n",
        "      img0=self.transform(img0)\n",
        "    return img0, torch.from_numpy(np.array([int(target)],dtype=np.float32))\n",
        "  def __len__(self):\n",
        "    return (len(self.imageFolderDataset.imgs))\n"
      ],
      "execution_count": null,
      "outputs": []
    },
    {
      "cell_type": "code",
      "metadata": {
        "id": "dv75g9oX3BIH"
      },
      "source": [
        "accuracy_list = []\n",
        "embeds = []\n",
        "labels= []\n",
        "train_loss = []\n",
        "test_loss = []\n",
        "epoch_iterator = []\n",
        "test_iterator = []\n",
        "dists = None\n",
        "targets = None"
      ],
      "execution_count": null,
      "outputs": []
    },
    {
      "cell_type": "code",
      "metadata": {
        "id": "b2aqPmp_iPLy"
      },
      "source": [
        "def train_epoch(model,optimizer,loss_optimizer,criterion,data_loader,device,epoch,print_freq):\n",
        "  \n",
        "  model.train()\n",
        "  running_loss = 0;\n",
        "  running_frac_pos_triplets= 0\n",
        "  epoch_iterator.append(epoch)\n",
        "  for i, data in enumerate(data_loader):\n",
        "    optimizer.zero_grad()\n",
        "    samples, targets = data[0].to(device),data[1].to(device)\n",
        "    targets = torch.flatten(targets)\n",
        "    embeddings = model(samples)\n",
        "    #loss,frac_pos_triplets = criterion(embeddings,targets)\n",
        "    loss = criterion(embeddings,targets)\n",
        "    loss.backward()\n",
        "    optimizer.step()\n",
        "    loss_optimizer.step()\n",
        "    running_loss +=loss.item()\n",
        "\n",
        "    #running_frac_pos_triplets+=float(frac_pos_triplets)\n",
        "\n",
        "    if i%print_freq ==print_freq-1:\n",
        "      i+=1\n",
        "      avg_loss = running_loss/print_freq\n",
        "      train_loss.append(avg_loss)\n",
        "      \n",
        "      #avg_trip =100.0*running_frac_pos_triplets/print_freq\n",
        "      #print('[{:d}, {:d}] | loss: {:.4f} | % avg hard triplets: {:.2f}%'.format(epoch, i, avg_loss, avg_trip))\n",
        "      print('[{:d}, {:d}] | loss: {:.4f}'.format(epoch, i, avg_loss))\n",
        "      running_loss = 0\n",
        "      running_frac_pos_triplets = 0"
      ],
      "execution_count": null,
      "outputs": []
    },
    {
      "cell_type": "code",
      "metadata": {
        "id": "rWwUJ9IkcEmq"
      },
      "source": [
        "def imshow(img,text=None,should_save= False):\n",
        "  npimg = img.cpu().numpy()\n",
        "  plt.axis(\"off\")\n",
        "  if text:\n",
        "    plt.text(75,8,text,style='italic',fontweight='bold',bbox={'facecolor':'white','alpha':0.8,'pad':10})\n",
        "  plt.imshow(np.transpose(npimg,(1,2,0)))\n",
        "  plt.show()\n",
        "  "
      ],
      "execution_count": null,
      "outputs": []
    },
    {
      "cell_type": "code",
      "metadata": {
        "id": "5OO0cD7Of64A"
      },
      "source": [
        "def save(model,epoch,save_dir,file_name):\n",
        "  file_name = 'epoch_'+str(epoch)+'_'+file_name\n",
        "  save_path =os.path.join(save_dir,file_name)\n",
        "  torch.save(model.state_dict(),save_path)"
      ],
      "execution_count": null,
      "outputs": []
    },
    {
      "cell_type": "code",
      "metadata": {
        "colab": {
          "base_uri": "https://localhost:8080/"
        },
        "id": "lCjFEK0fmTIA",
        "outputId": "f1ed97ef-3b70-4ced-d75c-5f7e895cff45"
      },
      "source": [
        "backbone_name = [\"resnet18\",\"resnet34\",\"resnet50\",\"resnet101\",\"resnet152\",\"VGG19\",\"VGG11\",\"densenet121\",\"densenet201\"]\r\n",
        "feature_extract =True\r\n",
        "extract_or_fine_tune=[\"tune\",\"extr\"]\r\n",
        "dataset_used=\"Nyla_Data\"\r\n",
        "backbone = backbone_name[5]\r\n",
        "mode_train =extract_or_fine_tune[feature_extract]\r\n",
        "saved_model=backbone+mode_train+dataset_used+\".pt\"\r\n",
        "dim =[64,128,512]\r\n",
        "dim_embedd= dim[2];\r\n",
        "print(saved_model)"
      ],
      "execution_count": null,
      "outputs": [
        {
          "output_type": "stream",
          "text": [
            "VGG19extrNyla_Data.pt\n"
          ],
          "name": "stdout"
        }
      ]
    },
    {
      "cell_type": "code",
      "metadata": {
        "id": "scWKE9nPGUTP",
        "colab": {
          "base_uri": "https://localhost:8080/"
        },
        "outputId": "73f7a95e-0699-40d5-c8aa-23891250fefb"
      },
      "source": [
        "\n",
        "folder_dataset_train = dset.ImageFolder(root=\"/content/drive/My Drive/Nyla_Data/img/train\")\n",
        "#folder_dataset_test = dset.ImageFolder(root=\"/content/drive/My Drive/ColabNotebooks/DataProcessed/Nyla_Data/val\")\n",
        "\n",
        "train_dataset = OnlineTripletDataset(imageFolderDataset=folder_dataset_train,transform=transforms.Compose([transforms.Resize(128),transforms.CenterCrop(124),transforms.ToTensor()]),should_invert=False)\n",
        "#test_dataset= OnlineTripletDataset(imageFolderDataset=folder_dataset_test,transform=transforms.Compose([transforms.Resize(28),transforms.CenterCrop(124),transforms.ToTensor(),transforms.Normalize([0.485,0.456,0.406],[0.229,0.224,0.225])]),should_invert=False)\n",
        "  \n",
        "targets = train_dataset.targets\n",
        "print(\"Total targets train = \"+str(len(targets)))\n",
        "train_dataloader = DataLoader(train_dataset,num_workers =4,batch_size=6)"
      ],
      "execution_count": null,
      "outputs": [
        {
          "output_type": "stream",
          "text": [
            "Total targets train = 237\n"
          ],
          "name": "stdout"
        }
      ]
    },
    {
      "cell_type": "code",
      "metadata": {
        "id": "6GqhQ7-2_iPu",
        "colab": {
          "base_uri": "https://localhost:8080/"
        },
        "outputId": "9c14c52c-a5c2-4d2c-9abe-832e441d5364"
      },
      "source": [
        "folder_dataset_test = dset.ImageFolder(root=\"/content/drive/My Drive/Nyla_Data/img/test\")\n",
        "#folder_dataset_test = dset.ImageFolder(root=\"/content/drive/My Drive/ColabNotebooks/DataProcessed/Lion_Data/val\")\n",
        "\n",
        "#train_dataset = OnlineTripletDataset(imageFolderDataset=folder_dataset_train,transform=transforms.Compose([transforms.Resize(28),transforms.CenterCrop(24),transforms.ToTensor()]),should_invert=False)\n",
        "test_dataset= OnlineTripletDataset(imageFolderDataset=folder_dataset_test,transform=transforms.Compose([transforms.Resize(128),transforms.CenterCrop(124),transforms.ToTensor(),transforms.Normalize([0.485,0.456,0.406],[0.229,0.224,0.225])]),should_invert=False)\n",
        "targets_test = test_dataset.targets\n",
        "print(\"targets test \",str(len(targets_test)))\n",
        "test_dataloader = DataLoader(test_dataset,num_workers=4,batch_size=6,shuffle=False) \n",
        "device = torch.device('cuda')"
      ],
      "execution_count": null,
      "outputs": [
        {
          "output_type": "stream",
          "text": [
            "targets test  179\n"
          ],
          "name": "stdout"
        }
      ]
    },
    {
      "cell_type": "code",
      "metadata": {
        "id": "IN1XQrXz5TNl"
      },
      "source": [
        "def get_all_embeddings(dataset,model):\r\n",
        "  tester = testers.BaseTester()\r\n",
        "  return tester.get_all_embeddings(dataset,model)"
      ],
      "execution_count": null,
      "outputs": []
    },
    {
      "cell_type": "code",
      "metadata": {
        "id": "oEHxYLUd5UQn"
      },
      "source": [
        "def test(test1_samples,test2_samples,model,accuracy_calculator):\r\n",
        "  test1_embeddings,test1_labels = get_all_embeddings(test1_samples,model)\r\n",
        "  test2_embeddings,test2_labels = get_all_embeddings(test2_samples,model)\r\n",
        "  accuracies = accuracy_calculator.get_accuracy(test1_embeddings,test2_embeddings,np.squeeze(test1_labels),np.squeeze(test2_labels),False)\r\n",
        "  print(\"Test accuracy (precision@1) = {}\".format(accuracies[\"precision_at_1\"]))\r\n",
        "  print(\"Test accuracy (mean average precision@R) = {}\".format(accuracies[\"mean_average_precision_at_r\"]))"
      ],
      "execution_count": null,
      "outputs": []
    },
    {
      "cell_type": "code",
      "metadata": {
        "id": "fmysnzus_ej7"
      },
      "source": [
        "\n",
        "def test_epoch(model,criterion,loss_optimizer,data_loader,device,epoch,print_freq):\n",
        "  model.eval()\n",
        "  model.to(device)\n",
        "  running_loss = 0;\n",
        "  running_frac_pos_triplets= 0\n",
        "  model_string = \"/content/drive/My Drive/Nyla_Data/epoch_\"+str(epoch)+\"_\"+saved_model\n",
        "  model.load_state_dict(torch.load(model_string))\n",
        "  test_iterator.append(epoch)\n",
        "  for i, data in enumerate(data_loader):\n",
        "    samples, targets = data[0].to(device),data[1].to(device)\n",
        "    targets = torch.flatten(targets)\n",
        "    embeddings = model(samples) \n",
        "    loss= criterion(embeddings,targets)\n",
        "    loss_optimizer.step()\n",
        "    running_loss +=loss.item()\n",
        "    if i%print_freq ==print_freq-1:\n",
        "      i+=1\n",
        "      avg_loss = running_loss/print_freq\n",
        "      test_loss.append(avg_loss)\n",
        "      print('[{:d}, {:d}] | loss: {:.4f}'.format(epoch, i, avg_loss))\n",
        "      running_loss = 0\n",
        "      running_frac_pos_triplets = 0"
      ],
      "execution_count": null,
      "outputs": []
    },
    {
      "cell_type": "code",
      "metadata": {
        "id": "lGCKEVVg7RSk",
        "colab": {
          "base_uri": "https://localhost:8080/",
          "height": 1000
        },
        "outputId": "3e42b800-eb62-41c1-83dc-522c078bb5c7"
      },
      "source": [
        "test_loss = []\n",
        "test_iterator = []\n",
        "def main():\n",
        "  device = torch.device('cuda:0')\n",
        "  #def __init__(self,model_name,num_classes,feature_extrating,use_pretrained):\n",
        "  feature_extract = True \n",
        "  #using model as a feature extractor... not fineturning all layers\n",
        "  model = EmbeddingNet(backbone,dim_embedd,feature_extract,True)\n",
        "  model.to(device)\n",
        "  params_to_update = model.parameters()\n",
        "  if feature_extract:\n",
        "    params_to_update= []\n",
        "    for name, param in model.named_parameters():\n",
        "      if param.requires_grad==True:\n",
        "        params_to_update.append(param)\n",
        "        print(\"\\t\",name)\n",
        "  else:\n",
        "    for name,param in model.named_parameters():\n",
        "      if param.requires_grad==True:\n",
        "        print(\"\\t\",name)\n",
        "  \n",
        "  print_freq = 170\n",
        "  #criterion = TripletMarginLoss(margin =0.1) # hyper parameter margin can be changed\n",
        "  #optimizer = Adam(params_to_update,lr=0.0001)\n",
        "  criterion = losses.ProxyNCALoss(237,dim_embedd,softmax_scale=1)\n",
        "  optimizer = Adam(params_to_update,lr=0.0001)\n",
        "  loss_optimizer = Adam(criterion.parameters(),lr=0.01)\n",
        "  for epoch in range(1,31):\n",
        "    print('Training... ',backbone)\n",
        "    train_epoch(model,optimizer,loss_optimizer,criterion,train_dataloader,device,epoch,print_freq)\n",
        "    save(model,epoch,\"/content/drive/My Drive/Nyla_Data/\",saved_model)\n",
        "  feature_extract = False \n",
        "  #using model as a feature extractor... not fineturning all layers\n",
        "  model = EmbeddingNet(backbone,dim_embedd,feature_extract,True)\n",
        "  #model = EmbeddingNet(\"VGG19\",)\n",
        "  #criterion = TripletMarginLoss(margin =0.1)\n",
        "  criterion = losses.ProxyNCALoss(179,dim_embedd,softmax_scale=1)\n",
        "  print_freq = 58\n",
        "  for epoch in range(1,31):\n",
        "    print('Testing ',backbone)\n",
        "    test_epoch(model,criterion,loss_optimizer,test_dataloader,device,epoch,print_freq)    \n",
        "  show_plot_two(test_iterator,train_loss,test_loss,\"train\",\"validate\",\"Triplet loss\")\n",
        "if __name__ == '__main__':\n",
        "  main()"
      ],
      "execution_count": null,
      "outputs": [
        {
          "output_type": "stream",
          "text": [
            "\t backbone.classifier.6.weight\n",
            "\t backbone.classifier.6.bias\n",
            "Training...  VGG19\n",
            "[1, 170] | loss: 5.2795\n",
            "Training...  VGG19\n",
            "[2, 170] | loss: 4.8414\n",
            "Training...  VGG19\n",
            "[3, 170] | loss: 4.7167\n",
            "Training...  VGG19\n",
            "[4, 170] | loss: 4.6452\n",
            "Training...  VGG19\n",
            "[5, 170] | loss: 4.6198\n",
            "Training...  VGG19\n",
            "[6, 170] | loss: 4.6151\n",
            "Training...  VGG19\n",
            "[7, 170] | loss: 4.5659\n",
            "Training...  VGG19\n",
            "[8, 170] | loss: 4.5709\n",
            "Training...  VGG19\n",
            "[9, 170] | loss: 4.5692\n",
            "Training...  VGG19\n",
            "[10, 170] | loss: 4.5458\n",
            "Training...  VGG19\n",
            "[11, 170] | loss: 4.5593\n",
            "Training...  VGG19\n",
            "[12, 170] | loss: 4.5294\n",
            "Training...  VGG19\n",
            "[13, 170] | loss: 4.5141\n",
            "Training...  VGG19\n",
            "[14, 170] | loss: 4.5119\n",
            "Training...  VGG19\n",
            "[15, 170] | loss: 4.4908\n",
            "Training...  VGG19\n",
            "[16, 170] | loss: 4.4733\n",
            "Training...  VGG19\n",
            "[17, 170] | loss: 4.4908\n",
            "Training...  VGG19\n",
            "[18, 170] | loss: 4.4759\n",
            "Training...  VGG19\n",
            "[19, 170] | loss: 4.4738\n",
            "Training...  VGG19\n",
            "[20, 170] | loss: 4.4623\n",
            "Training...  VGG19\n",
            "[21, 170] | loss: 4.4694\n",
            "Training...  VGG19\n",
            "[22, 170] | loss: 4.4381\n",
            "Training...  VGG19\n",
            "[23, 170] | loss: 4.4484\n",
            "Training...  VGG19\n",
            "[24, 170] | loss: 4.4483\n",
            "Training...  VGG19\n",
            "[25, 170] | loss: 4.4606\n",
            "Training...  VGG19\n",
            "[26, 170] | loss: 4.4524\n",
            "Training...  VGG19\n",
            "[27, 170] | loss: 4.4102\n",
            "Training...  VGG19\n",
            "[28, 170] | loss: 4.4299\n",
            "Training...  VGG19\n",
            "[29, 170] | loss: 4.4307\n",
            "Training...  VGG19\n",
            "[30, 170] | loss: 4.4122\n",
            "Testing  VGG19\n",
            "[1, 58] | loss: 5.1929\n",
            "Testing  VGG19\n",
            "[2, 58] | loss: 5.1910\n",
            "Testing  VGG19\n",
            "[3, 58] | loss: 5.2038\n",
            "Testing  VGG19\n",
            "[4, 58] | loss: 5.1943\n",
            "Testing  VGG19\n",
            "[5, 58] | loss: 5.1934\n",
            "Testing  VGG19\n",
            "[6, 58] | loss: 5.1962\n",
            "Testing  VGG19\n",
            "[7, 58] | loss: 5.1880\n",
            "Testing  VGG19\n",
            "[8, 58] | loss: 5.2004\n",
            "Testing  VGG19\n",
            "[9, 58] | loss: 5.1917\n",
            "Testing  VGG19\n",
            "[10, 58] | loss: 5.1841\n",
            "Testing  VGG19\n",
            "[11, 58] | loss: 5.1905\n",
            "Testing  VGG19\n",
            "[12, 58] | loss: 5.2032\n",
            "Testing  VGG19\n",
            "[13, 58] | loss: 5.1955\n",
            "Testing  VGG19\n",
            "[14, 58] | loss: 5.1942\n",
            "Testing  VGG19\n",
            "[15, 58] | loss: 5.1993\n",
            "Testing  VGG19\n",
            "[16, 58] | loss: 5.2002\n",
            "Testing  VGG19\n",
            "[17, 58] | loss: 5.2012\n",
            "Testing  VGG19\n",
            "[18, 58] | loss: 5.1925\n",
            "Testing  VGG19\n",
            "[19, 58] | loss: 5.2096\n",
            "Testing  VGG19\n",
            "[20, 58] | loss: 5.1959\n",
            "Testing  VGG19\n",
            "[21, 58] | loss: 5.1929\n",
            "Testing  VGG19\n",
            "[22, 58] | loss: 5.2042\n",
            "Testing  VGG19\n",
            "[23, 58] | loss: 5.1921\n",
            "Testing  VGG19\n",
            "[24, 58] | loss: 5.1922\n",
            "Testing  VGG19\n",
            "[25, 58] | loss: 5.1878\n",
            "Testing  VGG19\n",
            "[26, 58] | loss: 5.1958\n",
            "Testing  VGG19\n",
            "[27, 58] | loss: 5.1991\n",
            "Testing  VGG19\n",
            "[28, 58] | loss: 5.1862\n",
            "Testing  VGG19\n",
            "[29, 58] | loss: 5.1895\n",
            "Testing  VGG19\n",
            "[30, 58] | loss: 5.1874\n"
          ],
          "name": "stdout"
        },
        {
          "output_type": "display_data",
          "data": {
            "image/png": "[encoded data removed]",
            "text/plain": [
              "<Figure size 432x288 with 1 Axes>"
            ]
          },
          "metadata": {
            "tags": [],
            "needs_background": "light"
          }
        }
      ]
    },
    {
      "cell_type": "code",
      "metadata": {
        "colab": {
          "base_uri": "https://localhost:8080/"
        },
        "id": "I9j2lp8x6MXv",
        "outputId": "d3522ab3-1071-4db7-a65f-20e732a767cb"
      },
      "source": [
        "print(\"Evaluating model\",backbone)\r\n",
        "test_dataset1= OnlineTripletDataset(imageFolderDataset=folder_dataset_test,transform=transforms.Compose([transforms.Resize(128),transforms.CenterCrop(124),transforms.ToTensor(),transforms.Normalize([0.485,0.456,0.406],[0.229,0.224,0.225])]),should_invert=False)\r\n",
        "test_dataset2= OnlineTripletDataset(imageFolderDataset=folder_dataset_test,transform=transforms.Compose([transforms.Resize(128),transforms.CenterCrop(124),transforms.ToTensor(),transforms.Normalize([0.485,0.456,0.406],[0.229,0.224,0.225])]),should_invert=False)\r\n",
        "\r\n",
        "accuracy_calculator = AccuracyCalculator(include = (\"precision_at_1\",\"mean_average_precision_at_r\",),k=1)\r\n",
        "model = EmbeddingNet(backbone,dim_embedd,False,True)\r\n",
        "model.to(device)\r\n",
        "model_string = \"/content/drive/My Drive/Nyla_Data/epoch_\"+str(30)+\"_\"+saved_model\r\n",
        "model.load_state_dict(torch.load(model_string))\r\n",
        "test(test_dataset1,test_dataset2,model,accuracy_calculator)"
      ],
      "execution_count": null,
      "outputs": [
        {
          "output_type": "stream",
          "text": [
            "Evaluating model VGG19\n"
          ],
          "name": "stdout"
        },
        {
          "output_type": "stream",
          "text": [
            "100%|██████████| 14/14 [00:17<00:00,  1.27s/it]\n",
            "100%|██████████| 14/14 [00:16<00:00,  1.18s/it]"
          ],
          "name": "stderr"
        },
        {
          "output_type": "stream",
          "text": [
            "Test accuracy (precision@1) = 0.7197943444730077\n",
            "Test accuracy (mean average precision@R) = 0.7197943444730077\n"
          ],
          "name": "stdout"
        },
        {
          "output_type": "stream",
          "text": [
            "\n"
          ],
          "name": "stderr"
        }
      ]
    },
    {
      "cell_type": "code",
      "metadata": {
        "id": "ZXVYlYv6Q6Cu"
      },
      "source": [
        "print('Evaluating ', backbone)\n",
        "#http://queirozf.com/entries/evaluation-metrics-for-ranking-problems-introduction-and-examples\n",
        "#https://ils.unc.edu/courses/2013_spring/inls509_001/lectures/10-EvaluationMetrics.pdf\n",
        "test_dataloader2 = DataLoader(test_dataset,num_workers=4,batch_size=1,shuffle=False)\n",
        "model = EmbeddingNet(backbone,128,False,True)\n",
        "model.eval()\n",
        "model.to(device)\n",
        "accuracy_list = []\n",
        "recall1_list = []\n",
        "precision1_list = []\n",
        "\n",
        "recall2_list = []\n",
        "precision2_list = []\n",
        "\n",
        "for i in range(1,30):\n",
        "  accuracy = 0\n",
        "  total = 0\n",
        "  true_positive = 0\n",
        "  true_negative = 0\n",
        "  false_positive=0\n",
        "  false_negative =0\n",
        "\n",
        "  data_iter = iter(test_dataloader2)\n",
        "\n",
        "  img0,target0 =next(data_iter)\n",
        "  img0 = img0.to(device)\n",
        "  target0 = target0.to(device)\n",
        "  #print(target0.item())\n",
        "  model_string = \"/content/drive/My Drive/Nyla_Data/epoch_\"+str(30)+\"_\"+saved_model\n",
        "  model.load_state_dict(torch.load(model_string))\n",
        "  precision_c1 = 0.0\n",
        "  recall_c1 = 0.0\n",
        "\n",
        "  precision_c2 = 0.0\n",
        "  recall_c2 = 0.0\n",
        "  for i,data in enumerate(test_dataloader2):\n",
        "    img1,target1 =data[0].to(device),data[1].to(device)\n",
        "    embed0= model(img0)\n",
        "    embed1= model(img1)\n",
        "    contactenated = torch.cat((img0,img1),0)\n",
        "    dist =  F.pairwise_distance(embed0,embed1)\n",
        "    if target1.item() == target0.item():\n",
        "      \n",
        "      if dist<0.002:\n",
        "        true_positive+=1\n",
        "        total+=1\n",
        "      else:\n",
        "        false_positive+=1\n",
        "        total+=1\n",
        "    else:\n",
        "        if dist>=0.002:\n",
        "          true_negative+=1\n",
        "          total+=1\n",
        "        else:\n",
        "          false_negative+=1\n",
        "          total+=1\n",
        "  acc = (true_positive+true_negative)/total\n",
        "  accuracy_list.append(acc)\n",
        "  if true_positive !=0: \n",
        "    recall_c1 = true_positive /(true_positive+false_negative) \n",
        "    recall1_list.append(recall_c1)\n",
        "    precision_c1 =true_positive/(true_positive+false_positive)\n",
        "    precision1_list.append(precision_c1)\n",
        "  if true_negative!=0:\n",
        "    precision_c2 = true_negative/(true_negative+false_positive)\n",
        "    precision2_list.append(precision_c2)\n",
        "    recall_c2 = true_negative/(true_negative+false_negative)\n",
        "    recall2_list.append(recall_c2)\n",
        "\n",
        "print('Accuracy: {0:.1f}, Recall: {1:.1f} Precision: {2:.1f}'.format(mean(accuracy_list),mean(recall1_list),mean(precision1_list)))\n",
        "print('Accuracy: {0:.1f}, Recall: {1:.1f} Precision: {2:.1f}'.format(mean(accuracy_list),mean(recall2_list),mean(precision2_list)))"
      ],
      "execution_count": null,
      "outputs": []
    },
    {
      "cell_type": "code",
      "metadata": {
        "id": "9mct961CxL_y"
      },
      "source": [
        "def plot_dists(y_points1,y_points2,color1=\"blue\",color2=\"orange\"):\n",
        "  list_size = len(y_points1)\n",
        "\n",
        "  plt.scatter(y_points1,y_points1,c=color1,s=5,label=\"same label\")\n",
        "  #list_size = len(y_points2)\n",
        "  #x_list = np.arange(0,list_size,1)\n",
        "  new_list = y_points2[:list_size]\n",
        "  plt.scatter(new_list,new_list,c=color2,s=5,label =\"different label\")\n",
        "  plt.xlabel('distances range')\n",
        "  plt.ylabel('distances')\n",
        "\n",
        "  plt.legend(loc='upper left')\n",
        "  plt.show()\n"
      ],
      "execution_count": null,
      "outputs": []
    },
    {
      "cell_type": "code",
      "metadata": {
        "id": "siuoXDTrQxow"
      },
      "source": [
        "def plot_dists_all(y_points1,y_points2,color1=\"blue\",color2=\"orange\"):\n",
        "\n",
        "  list_size = len(y_points1)\n",
        "  x_list = np.linspace(0,30,num=list_size)\n",
        "  plt.scatter(x_list,y_points1,c=color1,s=5,label=\"same label\")\n",
        "  list_size = len(y_points2)\n",
        "  x_list = np.linspace(0,30,num=list_size)\n",
        "  plt.scatter(x_list,y_points2,c=color2,s=5,label=\"different label\")\n",
        "  #plt.xlim(0.01,0.008)\n",
        "  plt.xlabel('Batch')\n",
        "  plt.ylabel('distances')\n",
        "\n",
        "  plt.legend(loc='upper left')\n",
        "  plt.show()"
      ],
      "execution_count": null,
      "outputs": []
    },
    {
      "cell_type": "code",
      "metadata": {
        "id": "45GUHJLc2F1P",
        "colab": {
          "base_uri": "https://localhost:8080/",
          "height": 297
        },
        "outputId": "1eaf7e3d-00c9-470f-df80-0adab9481574"
      },
      "source": [
        "print('Plotting dists  resnet18. . . ')\n",
        "#http://queirozf.com/entries/evaluation-metrics-for-ranking-problems-introduction-and-examples\n",
        "#https://ils.unc.edu/courses/2013_spring/inls509_001/lectures/10-EvaluationMetrics.pdf\n",
        "test_dataloader2 = DataLoader(test_dataset,num_workers=4,batch_size=1,shuffle=False)\n",
        "model = EmbeddingNet(\"resnet18\",128,False,True)\n",
        "model.eval()\n",
        "model.to(device)\n",
        "model_string = \"/content/drive/My Drive/Nyla_Data/epoch_\"+str(30)+\"_\"+saved_model\n",
        "#model_string = \"/content/drive/My Drive/Nyla_Data/epoch_30_xvgg11nyla.pt\"\n",
        "model.load_state_dict(torch.load(model_string))\n",
        "accuracy_list = []\n",
        "recall1_list = []\n",
        "precision1_list = []\n",
        "\n",
        "recall2_list = []\n",
        "precision2_list = []\n",
        "\n",
        "same_class_dists=[]\n",
        "diff_class_dists=[]\n",
        "\n",
        "same_class_dists_av=[]\n",
        "diff_class_dists_av=[]\n",
        "data_iter = iter(test_dataloader2)\n",
        "for j in range(1,200):  \n",
        "  img0,target0 =next(data_iter)\n",
        "  img0 = img0.to(device)\n",
        "  target0 = target0.to(device)\n",
        "  embed0= model(img0)\n",
        "  for i,data in enumerate(test_dataloader2):\n",
        "    img1,target1 =data[0].to(device),data[1].to(device)\n",
        "    embed1= model(img1)\n",
        "    dist =  F.pairwise_distance(embed0,embed1)\n",
        "    dist_a = round(dist.item(),4)\n",
        "    if target1.item() == target0.item():\n",
        "      same_class_dists.append(dist_a)\n",
        "      if(j %50 == 0):\n",
        "        same_class_dists_av.append(np.mean(same_class_dists))\n",
        "        same_class_dists = []\n",
        "    else:\n",
        "      diff_class_dists.append(dist_a)\n",
        "      if j%50 == 0 :\n",
        "        diff_class_dists_av.append(np.mean(diff_class_dists))\n",
        "        diff_class_dists = []\n",
        "plot_dists(same_class_dists_av,diff_class_dists_av)\n",
        "  "
      ],
      "execution_count": null,
      "outputs": [
        {
          "output_type": "stream",
          "text": [
            "Plotting dists  resnet18. . . \n"
          ],
          "name": "stdout"
        },
        {
          "output_type": "display_data",
          "data": {
            "image/png": "[encoded data removed]",
            "text/plain": [
              "<Figure size 432x288 with 1 Axes>"
            ]
          },
          "metadata": {
            "tags": [],
            "needs_background": "light"
          }
        }
      ]
    },
    {
      "cell_type": "code",
      "metadata": {
        "id": "JxsYSuUKPbZp",
        "colab": {
          "base_uri": "https://localhost:8080/",
          "height": 279
        },
        "outputId": "0f9637e6-6c5c-4a6a-aca6-bbae4696f6d8"
      },
      "source": [
        "plot_dists(same_class_dists_av,diff_class_dists_av)"
      ],
      "execution_count": null,
      "outputs": [
        {
          "output_type": "display_data",
          "data": {
            "image/png": "[encoded data removed]",
            "text/plain": [
              "<Figure size 432x288 with 1 Axes>"
            ]
          },
          "metadata": {
            "tags": [],
            "needs_background": "light"
          }
        }
      ]
    },
    {
      "cell_type": "code",
      "metadata": {
        "id": "9KyJfVT2RIek",
        "colab": {
          "base_uri": "https://localhost:8080/",
          "height": 279
        },
        "outputId": "2fe13d87-cbfb-4ebf-db28-80602de344b4"
      },
      "source": [
        "\n",
        "plot_dists_all(same_class_dists_av,diff_class_dists_av)"
      ],
      "execution_count": null,
      "outputs": [
        {
          "output_type": "display_data",
          "data": {
            "image/png": "[encoded data removed]",
            "text/plain": [
              "<Figure size 432x288 with 1 Axes>"
            ]
          },
          "metadata": {
            "tags": [],
            "needs_background": "light"
          }
        }
      ]
    },
    {
      "cell_type": "code",
      "metadata": {
        "id": "HuKK5sgUyLdE"
      },
      "source": [
        "#plot_dists_all(same_class_dists_av,diff_class_dists_av)\n",
        "print('Mean distance between images in same class {:.4f}'.format(np.mean(same_class_dists_av)))\n",
        "print('Mean distance between images in different class {:.4f}'.format(np.mean(diff_class_dists_av)))\n"
      ],
      "execution_count": null,
      "outputs": []
    },
    {
      "cell_type": "code",
      "metadata": {
        "id": "DgyZjEEHyL1H"
      },
      "source": [
        "print('Evaluation  mAP resnet18. . . ')\n",
        "#http://queirozf.com/entries/evaluation-metrics-for-ranking-problems-introduction-and-examples\n",
        "#https://ils.unc.edu/courses/2013_spring/inls509_001/lectures/10-EvaluationMetrics.pdf\n",
        "test_dataloader2 = DataLoader(test_dataset,num_workers=4,batch_size=1,shuffle=False)\n",
        "model = EmbeddingNet(\"resnet18\",128,False,True)\n",
        "model.eval()\n",
        "model.to(device)\n",
        "accuracy_list = []\n",
        "recall1_list = []\n",
        "precision1_list = []\n",
        "\n",
        "relevant_items1 = 0\n",
        "relevant_items2 = 0\n",
        "recall2_list = []\n",
        "precision2_list = []\n",
        "model_string = \"/content/drive/My Drive/Nyla_Data/epoch_\"+str(30)+\"_\"+saved_model\n",
        "model.load_state_dict(torch.load(model_string))\n",
        "\n",
        "mean_average_prec = []\n",
        "data_iter = iter(test_dataloader2)\n",
        "for i in range(1,200):\n",
        "  dist_class = []\n",
        "  img0,target0 =next(data_iter)\n",
        "  img0 = img0.to(device)\n",
        "  target0 = target0.to(device)\n",
        "  for d,data in enumerate(test_dataloader2):\n",
        "    img1,target1 =data[0].to(device),data[1].to(device)\n",
        "    embed0= model(img0)\n",
        "    embed1= model(img1)\n",
        "    #contactenated = torch.cat((img0,img1),0)\n",
        "    dist =  F.pairwise_distance(embed0,embed1)\n",
        "    dist_r = round(dist.item(),4)\n",
        "    if target1.item() == target0.item():\n",
        "      relevant_items1=relevant_items1 + 1\n",
        "      t = (dist_r,0)\n",
        "      dist_class.append(t)\n",
        "    else:\n",
        "      relevant_items2=relevant_items2+1\n",
        "      t = (dist_r,1)\n",
        "      dist_class.append(t)\n",
        "  dist_class.sort(key = lambda x: x[0])\n",
        "  true_positive_class1 = 0\n",
        "  false_positive_class1 = 0\n",
        "  \n",
        "  true_negative_class1 = 0\n",
        "  false_negative_class1 = 0\n",
        "  total = 0\n",
        "  predicted_positive = 0\n",
        "  p = 0\n",
        "  for data in dist_class:\n",
        "    distance,class_ind = data[0],data[1]\n",
        "    if class_ind==0:\n",
        "      total= total+1\n",
        "      if distance<0.002:\n",
        "        true_positive_class1=true_positive_class1+1\n",
        "        predicted_positive=predicted_positive+1\n",
        "        p = p+(true_positive_class1/total)\n",
        "  \n",
        "  ap =0\n",
        "  if  predicted_positive>0:\n",
        "    ap= p/predicted_positive\n",
        "  precision1_list.append(ap)\n",
        "  #if i%50 ==0:\n",
        "\n",
        "  #print('AP@ : {0:.4f}'.format(ap))\n",
        "print('mAP {:.4f}'.format(mean(precision1_list)))"
      ],
      "execution_count": null,
      "outputs": []
    },
    {
      "cell_type": "code",
      "metadata": {
        "id": "JW_bbLW1zHni"
      },
      "source": [
        "#fig, ax = plt.subplots(figsize=(10, 6))\n",
        "# Create scatter plot\n",
        "#ax.scatter(months, boulder_monthly_precip)\n",
        "\n",
        "\n",
        "networks_names_nyala_extract=[\"Resnet-\\n18\",\"VGG11\",\"VGG19\",\"Resnet-\\n152\",\"Dense-\\nnet121\",\"Dense-\\nnet201\"]\n",
        "mAP_nyala_extract= [70.9,64.3,61.8,60,61.8,59.8]\n",
        "\n",
        "fig, ax = plt.subplots(figsize=(5,4))\n",
        "#ax.grid(True)\n",
        "\n",
        "ax.scatter(networks_names_nyala_extract,mAP_nyala_extract,color =\"k\")\n",
        "\n",
        "ax.set_ylabel('mAP(%)',fontweight='bold')\n",
        "ax.set_xlabel('Network architecture', fontweight='bold')\n",
        "\n",
        "plt.show()\n"
      ],
      "execution_count": null,
      "outputs": []
    },
    {
      "cell_type": "code",
      "metadata": {
        "id": "9JVoFJvE4axz"
      },
      "source": [
        "print('mAP {:.4f}'.format(mean(precision1_list)))"
      ],
      "execution_count": null,
      "outputs": []
    }
  ]
}